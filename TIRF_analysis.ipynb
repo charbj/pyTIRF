{
  "cells": [
    {
      "cell_type": "markdown",
      "metadata": {
        "id": "view-in-github",
        "colab_type": "text"
      },
      "source": [
        "<a href=\"https://colab.research.google.com/github/charbj/pyTIRF/blob/main/TIRF_analysis.ipynb\" target=\"_parent\"><img src=\"https://colab.research.google.com/assets/colab-badge.svg\" alt=\"Open In Colab\"/></a>"
      ]
    },
    {
      "cell_type": "markdown",
      "id": "cd059151",
      "metadata": {
        "id": "cd059151"
      },
      "source": [
        "## TIRF analysis ***INTERACTIVE*** \n",
        "Python programs for analysis of single molecule TIRF\n",
        "\n",
        "Developed by Charles Bayly-Jones (2022) \n",
        "Monash University, Melbourne, Australia"
      ]
    },
    {
      "cell_type": "code",
      "execution_count": 18,
      "id": "1af065f8",
      "metadata": {
        "id": "1af065f8",
        "colab": {
          "base_uri": "https://localhost:8080/"
        },
        "outputId": "6d23ef4c-a4af-49a9-bb69-dd6553ed03f9"
      },
      "outputs": [
        {
          "output_type": "stream",
          "name": "stdout",
          "text": [
            "Drive already mounted at /content/drive; to attempt to forcibly remount, call drive.mount(\"/content/drive\", force_remount=True).\n"
          ]
        }
      ],
      "source": [
        "from google.colab import drive\n",
        "drive.mount('/content/drive')\n",
        "\n",
        "#!git clone https://github.com/charbj/pyTIRF.git\n",
        "\n",
        "import os\n",
        "import numpy as np\n",
        "from pyTIRF.TIRF_tools import *\n",
        "np.set_printoptions(precision=2)\n",
        "import matplotlib.pyplot as plt\n",
        "from matplotlib import cm\n",
        "\n",
        "import cv2\n",
        "import math\n",
        "\n",
        "from skimage.restoration import denoise_tv_chambolle\n",
        "from scipy import optimize, signal\n",
        "\n",
        "import warnings\n",
        "warnings.filterwarnings(\"ignore\")\n",
        "%matplotlib inline"
      ]
    },
    {
      "cell_type": "markdown",
      "id": "f75c5362",
      "metadata": {
        "id": "f75c5362"
      },
      "source": [
        "## Define parameters and functions"
      ]
    },
    {
      "cell_type": "code",
      "execution_count": 19,
      "id": "f3d652db",
      "metadata": {
        "id": "f3d652db"
      },
      "outputs": [],
      "source": [
        "working_dir = '/content/drive/MyDrive/TIRF/'\n",
        "gain_ref = '/content/drive/MyDrive/TIRF/gain_ref.tiff'\n",
        "dt = 5"
      ]
    },
    {
      "cell_type": "markdown",
      "id": "cb9f8991",
      "metadata": {
        "id": "cb9f8991"
      },
      "source": [
        "## Preprocess raw ONI output"
      ]
    },
    {
      "cell_type": "code",
      "execution_count": 20,
      "id": "2227854b",
      "metadata": {
        "scrolled": false,
        "id": "2227854b",
        "outputId": "f1b8d57d-f14d-4a38-e952-c382c2ba91e9",
        "colab": {
          "base_uri": "https://localhost:8080/",
          "height": 467
        }
      },
      "outputs": [
        {
          "output_type": "stream",
          "name": "stdout",
          "text": [
            "Working on /content/drive/MyDrive/TIRF//run_1_a/pos_0\n",
            "Output in /content/drive/MyDrive/TIRF//run_1_a/analysis_0\n"
          ]
        },
        {
          "output_type": "error",
          "ename": "TiffFileError",
          "evalue": "ignored",
          "traceback": [
            "\u001b[0;31m---------------------------------------------------------------------------\u001b[0m",
            "\u001b[0;31mKeyError\u001b[0m                                  Traceback (most recent call last)",
            "\u001b[0;32m/usr/local/lib/python3.7/dist-packages/tifffile/tifffile.py\u001b[0m in \u001b[0;36m__init__\u001b[0;34m(self, arg, mode, name, offset, size, _multifile, _useframes, _parent, **kwargs)\u001b[0m\n\u001b[1;32m   3141\u001b[0m             \u001b[0;32mtry\u001b[0m\u001b[0;34m:\u001b[0m\u001b[0;34m\u001b[0m\u001b[0;34m\u001b[0m\u001b[0m\n\u001b[0;32m-> 3142\u001b[0;31m                 \u001b[0mbyteorder\u001b[0m \u001b[0;34m=\u001b[0m \u001b[0;34m{\u001b[0m\u001b[0;34mb'II'\u001b[0m\u001b[0;34m:\u001b[0m \u001b[0;34m'<'\u001b[0m\u001b[0;34m,\u001b[0m \u001b[0;34mb'MM'\u001b[0m\u001b[0;34m:\u001b[0m \u001b[0;34m'>'\u001b[0m\u001b[0;34m,\u001b[0m \u001b[0;34mb'EP'\u001b[0m\u001b[0;34m:\u001b[0m \u001b[0;34m'<'\u001b[0m\u001b[0;34m}\u001b[0m\u001b[0;34m[\u001b[0m\u001b[0mheader\u001b[0m\u001b[0;34m[\u001b[0m\u001b[0;34m:\u001b[0m\u001b[0;36m2\u001b[0m\u001b[0;34m]\u001b[0m\u001b[0;34m]\u001b[0m\u001b[0;34m\u001b[0m\u001b[0;34m\u001b[0m\u001b[0m\n\u001b[0m\u001b[1;32m   3143\u001b[0m             \u001b[0;32mexcept\u001b[0m \u001b[0mKeyError\u001b[0m\u001b[0;34m:\u001b[0m\u001b[0;34m\u001b[0m\u001b[0;34m\u001b[0m\u001b[0m\n",
            "\u001b[0;31mKeyError\u001b[0m: b'\\x00\\x00'",
            "\nDuring handling of the above exception, another exception occurred:\n",
            "\u001b[0;31mTiffFileError\u001b[0m                             Traceback (most recent call last)",
            "\u001b[0;32m<ipython-input-20-c8e593570668>\u001b[0m in \u001b[0;36m<module>\u001b[0;34m()\u001b[0m\n\u001b[1;32m     62\u001b[0m \u001b[0;34m\u001b[0m\u001b[0m\n\u001b[1;32m     63\u001b[0m \u001b[0minput\u001b[0m \u001b[0;34m=\u001b[0m \u001b[0mworking_dir\u001b[0m \u001b[0;34m+\u001b[0m \u001b[0;34m'/run_1_a'\u001b[0m\u001b[0;34m\u001b[0m\u001b[0;34m\u001b[0m\u001b[0m\n\u001b[0;32m---> 64\u001b[0;31m \u001b[0mbatch\u001b[0m \u001b[0;34m=\u001b[0m \u001b[0mmulti_colour_preprocess\u001b[0m\u001b[0;34m(\u001b[0m\u001b[0minput\u001b[0m\u001b[0;34m,\u001b[0m \u001b[0mgain_ref\u001b[0m\u001b[0;34m)\u001b[0m\u001b[0;34m\u001b[0m\u001b[0;34m\u001b[0m\u001b[0m\n\u001b[0m\u001b[1;32m     65\u001b[0m \u001b[0mprint\u001b[0m\u001b[0;34m(\u001b[0m\u001b[0mbatch\u001b[0m\u001b[0;34m)\u001b[0m\u001b[0;34m\u001b[0m\u001b[0;34m\u001b[0m\u001b[0m\n",
            "\u001b[0;32m<ipython-input-20-c8e593570668>\u001b[0m in \u001b[0;36mmulti_colour_preprocess\u001b[0;34m(input, gain_ref)\u001b[0m\n\u001b[1;32m     46\u001b[0m                 \u001b[0;32mfor\u001b[0m \u001b[0mindex\u001b[0m \u001b[0;32min\u001b[0m \u001b[0ml1sort\u001b[0m\u001b[0;34m:\u001b[0m\u001b[0;34m\u001b[0m\u001b[0;34m\u001b[0m\u001b[0m\n\u001b[1;32m     47\u001b[0m                     \u001b[0mimg\u001b[0m \u001b[0;34m=\u001b[0m \u001b[0mos\u001b[0m\u001b[0;34m.\u001b[0m\u001b[0mpath\u001b[0m\u001b[0;34m.\u001b[0m\u001b[0mjoin\u001b[0m\u001b[0;34m(\u001b[0m\u001b[0mroot\u001b[0m\u001b[0;34m,\u001b[0m \u001b[0mf1\u001b[0m\u001b[0;34m[\u001b[0m\u001b[0mindex\u001b[0m\u001b[0;34m]\u001b[0m\u001b[0;34m)\u001b[0m\u001b[0;34m\u001b[0m\u001b[0;34m\u001b[0m\u001b[0m\n\u001b[0;32m---> 48\u001b[0;31m                     \u001b[0marr\u001b[0m \u001b[0;34m=\u001b[0m \u001b[0mread\u001b[0m\u001b[0;34m(\u001b[0m\u001b[0mimg\u001b[0m\u001b[0;34m,\u001b[0m \u001b[0mfull\u001b[0m\u001b[0;34m=\u001b[0m\u001b[0;32mTrue\u001b[0m\u001b[0;34m)\u001b[0m\u001b[0;34m[\u001b[0m\u001b[0;34m:\u001b[0m\u001b[0;34m,\u001b[0m\u001b[0;36m428\u001b[0m\u001b[0;34m:\u001b[0m\u001b[0;36m855\u001b[0m\u001b[0;34m]\u001b[0m \u001b[0;34m-\u001b[0m \u001b[0mgain_ref\u001b[0m\u001b[0;34m[\u001b[0m\u001b[0;34m:\u001b[0m\u001b[0;34m,\u001b[0m\u001b[0;36m428\u001b[0m\u001b[0;34m:\u001b[0m\u001b[0;36m855\u001b[0m\u001b[0;34m]\u001b[0m\u001b[0;34m\u001b[0m\u001b[0;34m\u001b[0m\u001b[0m\n\u001b[0m\u001b[1;32m     49\u001b[0m                     \u001b[0;31m#mean = np.average(arr)\u001b[0m\u001b[0;34m\u001b[0m\u001b[0;34m\u001b[0m\u001b[0;34m\u001b[0m\u001b[0m\n\u001b[1;32m     50\u001b[0m                     \u001b[0;31m#arr[arr > 5 * mean] = 1\u001b[0m\u001b[0;34m\u001b[0m\u001b[0;34m\u001b[0m\u001b[0;34m\u001b[0m\u001b[0m\n",
            "\u001b[0;32m/content/pyTIRF/TIRF_tools.py\u001b[0m in \u001b[0;36mread\u001b[0;34m(image, start, stop, full)\u001b[0m\n\u001b[1;32m     17\u001b[0m         \u001b[0;32mreturn\u001b[0m \u001b[0mnp\u001b[0m\u001b[0;34m.\u001b[0m\u001b[0marray\u001b[0m\u001b[0;34m(\u001b[0m\u001b[0mcache\u001b[0m\u001b[0;34m,\u001b[0m \u001b[0mdtype\u001b[0m\u001b[0;34m=\u001b[0m\u001b[0mnp\u001b[0m\u001b[0;34m.\u001b[0m\u001b[0mfloat32\u001b[0m\u001b[0;34m)\u001b[0m\u001b[0;34m\u001b[0m\u001b[0;34m\u001b[0m\u001b[0m\n\u001b[1;32m     18\u001b[0m     \u001b[0;32melse\u001b[0m\u001b[0;34m:\u001b[0m\u001b[0;34m\u001b[0m\u001b[0;34m\u001b[0m\u001b[0m\n\u001b[0;32m---> 19\u001b[0;31m         \u001b[0;32mreturn\u001b[0m \u001b[0mnp\u001b[0m\u001b[0;34m.\u001b[0m\u001b[0marray\u001b[0m\u001b[0;34m(\u001b[0m\u001b[0mio\u001b[0m\u001b[0;34m.\u001b[0m\u001b[0mimread\u001b[0m\u001b[0;34m(\u001b[0m\u001b[0mimage\u001b[0m\u001b[0;34m)\u001b[0m\u001b[0;34m,\u001b[0m \u001b[0mdtype\u001b[0m\u001b[0;34m=\u001b[0m\u001b[0mnp\u001b[0m\u001b[0;34m.\u001b[0m\u001b[0mfloat32\u001b[0m\u001b[0;34m)\u001b[0m\u001b[0;34m\u001b[0m\u001b[0;34m\u001b[0m\u001b[0m\n\u001b[0m\u001b[1;32m     20\u001b[0m \u001b[0;34m\u001b[0m\u001b[0m\n\u001b[1;32m     21\u001b[0m \u001b[0;32mdef\u001b[0m \u001b[0mwrite\u001b[0m\u001b[0;34m(\u001b[0m\u001b[0mimage\u001b[0m\u001b[0;34m,\u001b[0m \u001b[0mname\u001b[0m\u001b[0;34m)\u001b[0m\u001b[0;34m:\u001b[0m\u001b[0;34m\u001b[0m\u001b[0;34m\u001b[0m\u001b[0m\n",
            "\u001b[0;32m/usr/local/lib/python3.7/dist-packages/skimage/io/_io.py\u001b[0m in \u001b[0;36mimread\u001b[0;34m(fname, as_gray, plugin, **plugin_args)\u001b[0m\n\u001b[1;32m     46\u001b[0m \u001b[0;34m\u001b[0m\u001b[0m\n\u001b[1;32m     47\u001b[0m     \u001b[0;32mwith\u001b[0m \u001b[0mfile_or_url_context\u001b[0m\u001b[0;34m(\u001b[0m\u001b[0mfname\u001b[0m\u001b[0;34m)\u001b[0m \u001b[0;32mas\u001b[0m \u001b[0mfname\u001b[0m\u001b[0;34m:\u001b[0m\u001b[0;34m\u001b[0m\u001b[0;34m\u001b[0m\u001b[0m\n\u001b[0;32m---> 48\u001b[0;31m         \u001b[0mimg\u001b[0m \u001b[0;34m=\u001b[0m \u001b[0mcall_plugin\u001b[0m\u001b[0;34m(\u001b[0m\u001b[0;34m'imread'\u001b[0m\u001b[0;34m,\u001b[0m \u001b[0mfname\u001b[0m\u001b[0;34m,\u001b[0m \u001b[0mplugin\u001b[0m\u001b[0;34m=\u001b[0m\u001b[0mplugin\u001b[0m\u001b[0;34m,\u001b[0m \u001b[0;34m**\u001b[0m\u001b[0mplugin_args\u001b[0m\u001b[0;34m)\u001b[0m\u001b[0;34m\u001b[0m\u001b[0;34m\u001b[0m\u001b[0m\n\u001b[0m\u001b[1;32m     49\u001b[0m \u001b[0;34m\u001b[0m\u001b[0m\n\u001b[1;32m     50\u001b[0m     \u001b[0;32mif\u001b[0m \u001b[0;32mnot\u001b[0m \u001b[0mhasattr\u001b[0m\u001b[0;34m(\u001b[0m\u001b[0mimg\u001b[0m\u001b[0;34m,\u001b[0m \u001b[0;34m'ndim'\u001b[0m\u001b[0;34m)\u001b[0m\u001b[0;34m:\u001b[0m\u001b[0;34m\u001b[0m\u001b[0;34m\u001b[0m\u001b[0m\n",
            "\u001b[0;32m/usr/local/lib/python3.7/dist-packages/skimage/io/manage_plugins.py\u001b[0m in \u001b[0;36mcall_plugin\u001b[0;34m(kind, *args, **kwargs)\u001b[0m\n\u001b[1;32m    205\u001b[0m                                (plugin, kind))\n\u001b[1;32m    206\u001b[0m \u001b[0;34m\u001b[0m\u001b[0m\n\u001b[0;32m--> 207\u001b[0;31m     \u001b[0;32mreturn\u001b[0m \u001b[0mfunc\u001b[0m\u001b[0;34m(\u001b[0m\u001b[0;34m*\u001b[0m\u001b[0margs\u001b[0m\u001b[0;34m,\u001b[0m \u001b[0;34m**\u001b[0m\u001b[0mkwargs\u001b[0m\u001b[0;34m)\u001b[0m\u001b[0;34m\u001b[0m\u001b[0;34m\u001b[0m\u001b[0m\n\u001b[0m\u001b[1;32m    208\u001b[0m \u001b[0;34m\u001b[0m\u001b[0m\n\u001b[1;32m    209\u001b[0m \u001b[0;34m\u001b[0m\u001b[0m\n",
            "\u001b[0;32m/usr/local/lib/python3.7/dist-packages/skimage/io/_plugins/tifffile_plugin.py\u001b[0m in \u001b[0;36mimread\u001b[0;34m(fname, **kwargs)\u001b[0m\n\u001b[1;32m     28\u001b[0m         \u001b[0mkwargs\u001b[0m\u001b[0;34m[\u001b[0m\u001b[0;34m'key'\u001b[0m\u001b[0;34m]\u001b[0m \u001b[0;34m=\u001b[0m \u001b[0mkwargs\u001b[0m\u001b[0;34m.\u001b[0m\u001b[0mpop\u001b[0m\u001b[0;34m(\u001b[0m\u001b[0;34m'img_num'\u001b[0m\u001b[0;34m)\u001b[0m\u001b[0;34m\u001b[0m\u001b[0;34m\u001b[0m\u001b[0m\n\u001b[1;32m     29\u001b[0m \u001b[0;34m\u001b[0m\u001b[0m\n\u001b[0;32m---> 30\u001b[0;31m     \u001b[0;32mreturn\u001b[0m \u001b[0mtifffile_imread\u001b[0m\u001b[0;34m(\u001b[0m\u001b[0mfname\u001b[0m\u001b[0;34m,\u001b[0m \u001b[0;34m**\u001b[0m\u001b[0mkwargs\u001b[0m\u001b[0;34m)\u001b[0m\u001b[0;34m\u001b[0m\u001b[0;34m\u001b[0m\u001b[0m\n\u001b[0m",
            "\u001b[0;32m/usr/local/lib/python3.7/dist-packages/tifffile/tifffile.py\u001b[0m in \u001b[0;36mimread\u001b[0;34m(files, aszarr, **kwargs)\u001b[0m\n\u001b[1;32m    889\u001b[0m \u001b[0;34m\u001b[0m\u001b[0m\n\u001b[1;32m    890\u001b[0m         \u001b[0;32mif\u001b[0m \u001b[0misinstance\u001b[0m\u001b[0;34m(\u001b[0m\u001b[0mfiles\u001b[0m\u001b[0;34m,\u001b[0m \u001b[0;34m(\u001b[0m\u001b[0mstr\u001b[0m\u001b[0;34m,\u001b[0m \u001b[0mos\u001b[0m\u001b[0;34m.\u001b[0m\u001b[0mPathLike\u001b[0m\u001b[0;34m)\u001b[0m\u001b[0;34m)\u001b[0m \u001b[0;32mor\u001b[0m \u001b[0mhasattr\u001b[0m\u001b[0;34m(\u001b[0m\u001b[0mfiles\u001b[0m\u001b[0;34m,\u001b[0m \u001b[0;34m'seek'\u001b[0m\u001b[0;34m)\u001b[0m\u001b[0;34m:\u001b[0m\u001b[0;34m\u001b[0m\u001b[0;34m\u001b[0m\u001b[0m\n\u001b[0;32m--> 891\u001b[0;31m             \u001b[0;32mwith\u001b[0m \u001b[0mTiffFile\u001b[0m\u001b[0;34m(\u001b[0m\u001b[0mfiles\u001b[0m\u001b[0;34m,\u001b[0m \u001b[0;34m**\u001b[0m\u001b[0mkwargs_file\u001b[0m\u001b[0;34m)\u001b[0m \u001b[0;32mas\u001b[0m \u001b[0mtif\u001b[0m\u001b[0;34m:\u001b[0m\u001b[0;34m\u001b[0m\u001b[0;34m\u001b[0m\u001b[0m\n\u001b[0m\u001b[1;32m    892\u001b[0m                 \u001b[0;32mif\u001b[0m \u001b[0maszarr\u001b[0m\u001b[0;34m:\u001b[0m\u001b[0;34m\u001b[0m\u001b[0;34m\u001b[0m\u001b[0m\n\u001b[1;32m    893\u001b[0m                     \u001b[0;32mreturn\u001b[0m \u001b[0mtif\u001b[0m\u001b[0;34m.\u001b[0m\u001b[0maszarr\u001b[0m\u001b[0;34m(\u001b[0m\u001b[0;34m**\u001b[0m\u001b[0mkwargs\u001b[0m\u001b[0;34m)\u001b[0m\u001b[0;34m\u001b[0m\u001b[0;34m\u001b[0m\u001b[0m\n",
            "\u001b[0;32m/usr/local/lib/python3.7/dist-packages/tifffile/tifffile.py\u001b[0m in \u001b[0;36m__init__\u001b[0;34m(self, arg, mode, name, offset, size, _multifile, _useframes, _parent, **kwargs)\u001b[0m\n\u001b[1;32m   3142\u001b[0m                 \u001b[0mbyteorder\u001b[0m \u001b[0;34m=\u001b[0m \u001b[0;34m{\u001b[0m\u001b[0;34mb'II'\u001b[0m\u001b[0;34m:\u001b[0m \u001b[0;34m'<'\u001b[0m\u001b[0;34m,\u001b[0m \u001b[0;34mb'MM'\u001b[0m\u001b[0;34m:\u001b[0m \u001b[0;34m'>'\u001b[0m\u001b[0;34m,\u001b[0m \u001b[0;34mb'EP'\u001b[0m\u001b[0;34m:\u001b[0m \u001b[0;34m'<'\u001b[0m\u001b[0;34m}\u001b[0m\u001b[0;34m[\u001b[0m\u001b[0mheader\u001b[0m\u001b[0;34m[\u001b[0m\u001b[0;34m:\u001b[0m\u001b[0;36m2\u001b[0m\u001b[0;34m]\u001b[0m\u001b[0;34m]\u001b[0m\u001b[0;34m\u001b[0m\u001b[0;34m\u001b[0m\u001b[0m\n\u001b[1;32m   3143\u001b[0m             \u001b[0;32mexcept\u001b[0m \u001b[0mKeyError\u001b[0m\u001b[0;34m:\u001b[0m\u001b[0;34m\u001b[0m\u001b[0;34m\u001b[0m\u001b[0m\n\u001b[0;32m-> 3144\u001b[0;31m                 \u001b[0;32mraise\u001b[0m \u001b[0mTiffFileError\u001b[0m\u001b[0;34m(\u001b[0m\u001b[0;34mf'not a TIFF file {header!r}'\u001b[0m\u001b[0;34m)\u001b[0m\u001b[0;34m\u001b[0m\u001b[0;34m\u001b[0m\u001b[0m\n\u001b[0m\u001b[1;32m   3145\u001b[0m \u001b[0;34m\u001b[0m\u001b[0m\n\u001b[1;32m   3146\u001b[0m             \u001b[0mversion\u001b[0m \u001b[0;34m=\u001b[0m \u001b[0mstruct\u001b[0m\u001b[0;34m.\u001b[0m\u001b[0munpack\u001b[0m\u001b[0;34m(\u001b[0m\u001b[0mbyteorder\u001b[0m \u001b[0;34m+\u001b[0m \u001b[0;34m'H'\u001b[0m\u001b[0;34m,\u001b[0m \u001b[0mheader\u001b[0m\u001b[0;34m[\u001b[0m\u001b[0;36m2\u001b[0m\u001b[0;34m:\u001b[0m\u001b[0;36m4\u001b[0m\u001b[0;34m]\u001b[0m\u001b[0;34m)\u001b[0m\u001b[0;34m[\u001b[0m\u001b[0;36m0\u001b[0m\u001b[0;34m]\u001b[0m\u001b[0;34m\u001b[0m\u001b[0;34m\u001b[0m\u001b[0m\n",
            "\u001b[0;31mTiffFileError\u001b[0m: not a TIFF file b'\\x00\\x00\\x00\\x00'"
          ]
        }
      ],
      "source": [
        "def multi_colour_preprocess(input, gain_ref):\n",
        "    gain_ref = read(gain_ref, full=True)\n",
        "\n",
        "    batch = []\n",
        "    if os.path.isdir(input):\n",
        "        for root, _, filenames in os.walk(input):\n",
        "            if os.path.split(root)[-1][0:3] == 'pos':\n",
        "                print(f'Working on {root}')\n",
        "                dir_base = os.path.split(root)[0]\n",
        "                new = 'analysis' + os.path.split(root)[-1][3:]\n",
        "                out = os.path.join(dir_base, new)\n",
        "                if not os.path.isdir(out):\n",
        "                    os.makedirs(out)\n",
        "                print(f'Output in {out}')\n",
        "                \n",
        "                f0, l0 = [], []\n",
        "                f1, l1 = [], []\n",
        "                for file in filenames:\n",
        "                    base = file.split('_')\n",
        "                    if base[-1].split('.')[1] == 'tif':\n",
        "                        for ind, radical in enumerate(base):\n",
        "                            if radical[:6] == 'colour':\n",
        "                                colour = int(radical[6:7])\n",
        "                            if radical[0] == 't':\n",
        "                                time = int(radical[1:])\n",
        "       \n",
        "                        if colour == 0:\n",
        "                            f0.append(file)\n",
        "                            l0.append(time)\n",
        "                        else:\n",
        "                            f1.append(file)\n",
        "                            l1.append(time)\n",
        "                        \n",
        "                l0sort = sorted(range(len(l0)), key=lambda k: l0[k])\n",
        "                l1sort = sorted(range(len(l1)), key=lambda k: l1[k])      \n",
        "    \n",
        "                ch0_stack = []\n",
        "                for index in l0sort:\n",
        "                    img = os.path.join(root, f0[index])\n",
        "                    arr = read(img, full=True)[:,0:427] - gain_ref[:,0:427]\n",
        "                    #mean = np.average(arr)\n",
        "                    #arr[arr > 5 * mean] = 1\n",
        "                    ch0_stack.append(arr)\n",
        "                    \n",
        "                ch1_stack = []\n",
        "                for index in l1sort:\n",
        "                    img = os.path.join(root, f1[index])\n",
        "                    arr = read(img, full=True)[:,428:855] - gain_ref[:,428:855]\n",
        "                    #mean = np.average(arr)\n",
        "                    #arr[arr > 5 * mean] = 1\n",
        "                    ch1_stack.append(arr)\n",
        "\n",
        "                write(average(np.array(ch0_stack)), os.path.join(out,'ch0_average.tiff'))\n",
        "                write(average(np.array(ch1_stack)), os.path.join(out,'ch1_average.tiff'))\n",
        "\n",
        "                write(np.array(ch0_stack), os.path.join(out,'ch0_stack.tiff'))\n",
        "                write(np.array(ch1_stack), os.path.join(out,'ch1_stack.tiff'))\n",
        "                \n",
        "                batch.append([os.path.join(out,'ch0_stack.tiff'),os.path.join(out,'ch1_stack.tiff'), out])\n",
        "                \n",
        "    return batch\n",
        "        \n",
        "input = working_dir + '/run_1_a'\n",
        "batch = multi_colour_preprocess(input, gain_ref)\n",
        "print(batch)"
      ]
    },
    {
      "cell_type": "markdown",
      "id": "d53ea780",
      "metadata": {
        "id": "d53ea780"
      },
      "source": [
        "## Determine photobleaching rate from control experiment"
      ]
    },
    {
      "cell_type": "code",
      "execution_count": 22,
      "id": "b5a707b1",
      "metadata": {
        "id": "b5a707b1",
        "outputId": "d728f010-80be-4a3f-cb66-53330e273903",
        "colab": {
          "base_uri": "https://localhost:8080/",
          "height": 815
        }
      },
      "outputs": [
        {
          "output_type": "error",
          "ename": "FileNotFoundError",
          "evalue": "ignored",
          "traceback": [
            "\u001b[0;31m---------------------------------------------------------------------------\u001b[0m",
            "\u001b[0;31mFileNotFoundError\u001b[0m                         Traceback (most recent call last)",
            "\u001b[0;32m<ipython-input-22-53899072cad5>\u001b[0m in \u001b[0;36m<module>\u001b[0;34m()\u001b[0m\n\u001b[1;32m     74\u001b[0m \u001b[0mch1\u001b[0m \u001b[0;34m=\u001b[0m \u001b[0mworking_dir\u001b[0m \u001b[0;34m+\u001b[0m \u001b[0;34m'/run_2_b/analysis_0/ch1_stack.tiff'\u001b[0m\u001b[0;34m\u001b[0m\u001b[0;34m\u001b[0m\u001b[0m\n\u001b[1;32m     75\u001b[0m \u001b[0;34m\u001b[0m\u001b[0m\n\u001b[0;32m---> 76\u001b[0;31m \u001b[0mphotobleaching_rate\u001b[0m\u001b[0;34m(\u001b[0m\u001b[0;32mNone\u001b[0m\u001b[0;34m,\u001b[0m \u001b[0mch0\u001b[0m\u001b[0;34m,\u001b[0m \u001b[0mch1\u001b[0m\u001b[0;34m,\u001b[0m \u001b[0;32mNone\u001b[0m\u001b[0;34m,\u001b[0m \u001b[0mtwo_colour\u001b[0m\u001b[0;34m=\u001b[0m\u001b[0;32mTrue\u001b[0m\u001b[0;34m,\u001b[0m \u001b[0mdo_calculate\u001b[0m\u001b[0;34m=\u001b[0m\u001b[0;32mTrue\u001b[0m\u001b[0;34m)\u001b[0m\u001b[0;34m\u001b[0m\u001b[0;34m\u001b[0m\u001b[0m\n\u001b[0m",
            "\u001b[0;32m<ipython-input-22-53899072cad5>\u001b[0m in \u001b[0;36mphotobleaching_rate\u001b[0;34m(trace, ch_0, ch_1, k, two_colour, do_calculate, type)\u001b[0m\n\u001b[1;32m     10\u001b[0m     \u001b[0max_1\u001b[0m \u001b[0;34m=\u001b[0m \u001b[0mf\u001b[0m\u001b[0;34m.\u001b[0m\u001b[0madd_subplot\u001b[0m\u001b[0;34m(\u001b[0m\u001b[0;36m111\u001b[0m\u001b[0;34m)\u001b[0m\u001b[0;34m\u001b[0m\u001b[0;34m\u001b[0m\u001b[0m\n\u001b[1;32m     11\u001b[0m     \u001b[0;32mif\u001b[0m \u001b[0mdo_calculate\u001b[0m\u001b[0;34m:\u001b[0m\u001b[0;34m\u001b[0m\u001b[0;34m\u001b[0m\u001b[0m\n\u001b[0;32m---> 12\u001b[0;31m         \u001b[0mstack_ch0\u001b[0m \u001b[0;34m=\u001b[0m \u001b[0mread\u001b[0m\u001b[0;34m(\u001b[0m\u001b[0mch_0\u001b[0m\u001b[0;34m,\u001b[0m \u001b[0mfull\u001b[0m\u001b[0;34m=\u001b[0m\u001b[0;32mTrue\u001b[0m\u001b[0;34m)\u001b[0m\u001b[0;34m\u001b[0m\u001b[0;34m\u001b[0m\u001b[0m\n\u001b[0m\u001b[1;32m     13\u001b[0m         \u001b[0mch0\u001b[0m \u001b[0;34m=\u001b[0m \u001b[0;34m[\u001b[0m\u001b[0;34m]\u001b[0m\u001b[0;34m\u001b[0m\u001b[0;34m\u001b[0m\u001b[0m\n\u001b[1;32m     14\u001b[0m         \u001b[0;32mfor\u001b[0m \u001b[0mi\u001b[0m \u001b[0;32min\u001b[0m \u001b[0mrange\u001b[0m\u001b[0;34m(\u001b[0m\u001b[0mstack_ch0\u001b[0m\u001b[0;34m.\u001b[0m\u001b[0mshape\u001b[0m\u001b[0;34m[\u001b[0m\u001b[0;36m0\u001b[0m\u001b[0;34m]\u001b[0m\u001b[0;34m)\u001b[0m\u001b[0;34m:\u001b[0m\u001b[0;34m\u001b[0m\u001b[0;34m\u001b[0m\u001b[0m\n",
            "\u001b[0;32m/content/pyTIRF/TIRF_tools.py\u001b[0m in \u001b[0;36mread\u001b[0;34m(image, start, stop, full)\u001b[0m\n\u001b[1;32m     17\u001b[0m         \u001b[0;32mreturn\u001b[0m \u001b[0mnp\u001b[0m\u001b[0;34m.\u001b[0m\u001b[0marray\u001b[0m\u001b[0;34m(\u001b[0m\u001b[0mcache\u001b[0m\u001b[0;34m,\u001b[0m \u001b[0mdtype\u001b[0m\u001b[0;34m=\u001b[0m\u001b[0mnp\u001b[0m\u001b[0;34m.\u001b[0m\u001b[0mfloat32\u001b[0m\u001b[0;34m)\u001b[0m\u001b[0;34m\u001b[0m\u001b[0;34m\u001b[0m\u001b[0m\n\u001b[1;32m     18\u001b[0m     \u001b[0;32melse\u001b[0m\u001b[0;34m:\u001b[0m\u001b[0;34m\u001b[0m\u001b[0;34m\u001b[0m\u001b[0m\n\u001b[0;32m---> 19\u001b[0;31m         \u001b[0;32mreturn\u001b[0m \u001b[0mnp\u001b[0m\u001b[0;34m.\u001b[0m\u001b[0marray\u001b[0m\u001b[0;34m(\u001b[0m\u001b[0mio\u001b[0m\u001b[0;34m.\u001b[0m\u001b[0mimread\u001b[0m\u001b[0;34m(\u001b[0m\u001b[0mimage\u001b[0m\u001b[0;34m)\u001b[0m\u001b[0;34m,\u001b[0m \u001b[0mdtype\u001b[0m\u001b[0;34m=\u001b[0m\u001b[0mnp\u001b[0m\u001b[0;34m.\u001b[0m\u001b[0mfloat32\u001b[0m\u001b[0;34m)\u001b[0m\u001b[0;34m\u001b[0m\u001b[0;34m\u001b[0m\u001b[0m\n\u001b[0m\u001b[1;32m     20\u001b[0m \u001b[0;34m\u001b[0m\u001b[0m\n\u001b[1;32m     21\u001b[0m \u001b[0;32mdef\u001b[0m \u001b[0mwrite\u001b[0m\u001b[0;34m(\u001b[0m\u001b[0mimage\u001b[0m\u001b[0;34m,\u001b[0m \u001b[0mname\u001b[0m\u001b[0;34m)\u001b[0m\u001b[0;34m:\u001b[0m\u001b[0;34m\u001b[0m\u001b[0;34m\u001b[0m\u001b[0m\n",
            "\u001b[0;32m/usr/local/lib/python3.7/dist-packages/skimage/io/_io.py\u001b[0m in \u001b[0;36mimread\u001b[0;34m(fname, as_gray, plugin, **plugin_args)\u001b[0m\n\u001b[1;32m     46\u001b[0m \u001b[0;34m\u001b[0m\u001b[0m\n\u001b[1;32m     47\u001b[0m     \u001b[0;32mwith\u001b[0m \u001b[0mfile_or_url_context\u001b[0m\u001b[0;34m(\u001b[0m\u001b[0mfname\u001b[0m\u001b[0;34m)\u001b[0m \u001b[0;32mas\u001b[0m \u001b[0mfname\u001b[0m\u001b[0;34m:\u001b[0m\u001b[0;34m\u001b[0m\u001b[0;34m\u001b[0m\u001b[0m\n\u001b[0;32m---> 48\u001b[0;31m         \u001b[0mimg\u001b[0m \u001b[0;34m=\u001b[0m \u001b[0mcall_plugin\u001b[0m\u001b[0;34m(\u001b[0m\u001b[0;34m'imread'\u001b[0m\u001b[0;34m,\u001b[0m \u001b[0mfname\u001b[0m\u001b[0;34m,\u001b[0m \u001b[0mplugin\u001b[0m\u001b[0;34m=\u001b[0m\u001b[0mplugin\u001b[0m\u001b[0;34m,\u001b[0m \u001b[0;34m**\u001b[0m\u001b[0mplugin_args\u001b[0m\u001b[0;34m)\u001b[0m\u001b[0;34m\u001b[0m\u001b[0;34m\u001b[0m\u001b[0m\n\u001b[0m\u001b[1;32m     49\u001b[0m \u001b[0;34m\u001b[0m\u001b[0m\n\u001b[1;32m     50\u001b[0m     \u001b[0;32mif\u001b[0m \u001b[0;32mnot\u001b[0m \u001b[0mhasattr\u001b[0m\u001b[0;34m(\u001b[0m\u001b[0mimg\u001b[0m\u001b[0;34m,\u001b[0m \u001b[0;34m'ndim'\u001b[0m\u001b[0;34m)\u001b[0m\u001b[0;34m:\u001b[0m\u001b[0;34m\u001b[0m\u001b[0;34m\u001b[0m\u001b[0m\n",
            "\u001b[0;32m/usr/local/lib/python3.7/dist-packages/skimage/io/manage_plugins.py\u001b[0m in \u001b[0;36mcall_plugin\u001b[0;34m(kind, *args, **kwargs)\u001b[0m\n\u001b[1;32m    205\u001b[0m                                (plugin, kind))\n\u001b[1;32m    206\u001b[0m \u001b[0;34m\u001b[0m\u001b[0m\n\u001b[0;32m--> 207\u001b[0;31m     \u001b[0;32mreturn\u001b[0m \u001b[0mfunc\u001b[0m\u001b[0;34m(\u001b[0m\u001b[0;34m*\u001b[0m\u001b[0margs\u001b[0m\u001b[0;34m,\u001b[0m \u001b[0;34m**\u001b[0m\u001b[0mkwargs\u001b[0m\u001b[0;34m)\u001b[0m\u001b[0;34m\u001b[0m\u001b[0;34m\u001b[0m\u001b[0m\n\u001b[0m\u001b[1;32m    208\u001b[0m \u001b[0;34m\u001b[0m\u001b[0m\n\u001b[1;32m    209\u001b[0m \u001b[0;34m\u001b[0m\u001b[0m\n",
            "\u001b[0;32m/usr/local/lib/python3.7/dist-packages/skimage/io/_plugins/tifffile_plugin.py\u001b[0m in \u001b[0;36mimread\u001b[0;34m(fname, **kwargs)\u001b[0m\n\u001b[1;32m     28\u001b[0m         \u001b[0mkwargs\u001b[0m\u001b[0;34m[\u001b[0m\u001b[0;34m'key'\u001b[0m\u001b[0;34m]\u001b[0m \u001b[0;34m=\u001b[0m \u001b[0mkwargs\u001b[0m\u001b[0;34m.\u001b[0m\u001b[0mpop\u001b[0m\u001b[0;34m(\u001b[0m\u001b[0;34m'img_num'\u001b[0m\u001b[0;34m)\u001b[0m\u001b[0;34m\u001b[0m\u001b[0;34m\u001b[0m\u001b[0m\n\u001b[1;32m     29\u001b[0m \u001b[0;34m\u001b[0m\u001b[0m\n\u001b[0;32m---> 30\u001b[0;31m     \u001b[0;32mreturn\u001b[0m \u001b[0mtifffile_imread\u001b[0m\u001b[0;34m(\u001b[0m\u001b[0mfname\u001b[0m\u001b[0;34m,\u001b[0m \u001b[0;34m**\u001b[0m\u001b[0mkwargs\u001b[0m\u001b[0;34m)\u001b[0m\u001b[0;34m\u001b[0m\u001b[0;34m\u001b[0m\u001b[0m\n\u001b[0m",
            "\u001b[0;32m/usr/local/lib/python3.7/dist-packages/tifffile/tifffile.py\u001b[0m in \u001b[0;36mimread\u001b[0;34m(files, aszarr, **kwargs)\u001b[0m\n\u001b[1;32m    889\u001b[0m \u001b[0;34m\u001b[0m\u001b[0m\n\u001b[1;32m    890\u001b[0m         \u001b[0;32mif\u001b[0m \u001b[0misinstance\u001b[0m\u001b[0;34m(\u001b[0m\u001b[0mfiles\u001b[0m\u001b[0;34m,\u001b[0m \u001b[0;34m(\u001b[0m\u001b[0mstr\u001b[0m\u001b[0;34m,\u001b[0m \u001b[0mos\u001b[0m\u001b[0;34m.\u001b[0m\u001b[0mPathLike\u001b[0m\u001b[0;34m)\u001b[0m\u001b[0;34m)\u001b[0m \u001b[0;32mor\u001b[0m \u001b[0mhasattr\u001b[0m\u001b[0;34m(\u001b[0m\u001b[0mfiles\u001b[0m\u001b[0;34m,\u001b[0m \u001b[0;34m'seek'\u001b[0m\u001b[0;34m)\u001b[0m\u001b[0;34m:\u001b[0m\u001b[0;34m\u001b[0m\u001b[0;34m\u001b[0m\u001b[0m\n\u001b[0;32m--> 891\u001b[0;31m             \u001b[0;32mwith\u001b[0m \u001b[0mTiffFile\u001b[0m\u001b[0;34m(\u001b[0m\u001b[0mfiles\u001b[0m\u001b[0;34m,\u001b[0m \u001b[0;34m**\u001b[0m\u001b[0mkwargs_file\u001b[0m\u001b[0;34m)\u001b[0m \u001b[0;32mas\u001b[0m \u001b[0mtif\u001b[0m\u001b[0;34m:\u001b[0m\u001b[0;34m\u001b[0m\u001b[0;34m\u001b[0m\u001b[0m\n\u001b[0m\u001b[1;32m    892\u001b[0m                 \u001b[0;32mif\u001b[0m \u001b[0maszarr\u001b[0m\u001b[0;34m:\u001b[0m\u001b[0;34m\u001b[0m\u001b[0;34m\u001b[0m\u001b[0m\n\u001b[1;32m    893\u001b[0m                     \u001b[0;32mreturn\u001b[0m \u001b[0mtif\u001b[0m\u001b[0;34m.\u001b[0m\u001b[0maszarr\u001b[0m\u001b[0;34m(\u001b[0m\u001b[0;34m**\u001b[0m\u001b[0mkwargs\u001b[0m\u001b[0;34m)\u001b[0m\u001b[0;34m\u001b[0m\u001b[0;34m\u001b[0m\u001b[0m\n",
            "\u001b[0;32m/usr/local/lib/python3.7/dist-packages/tifffile/tifffile.py\u001b[0m in \u001b[0;36m__init__\u001b[0;34m(self, arg, mode, name, offset, size, _multifile, _useframes, _parent, **kwargs)\u001b[0m\n\u001b[1;32m   3129\u001b[0m             \u001b[0;32mraise\u001b[0m \u001b[0mValueError\u001b[0m\u001b[0;34m(\u001b[0m\u001b[0;34mf'invalid mode {mode!r}'\u001b[0m\u001b[0;34m)\u001b[0m\u001b[0;34m\u001b[0m\u001b[0;34m\u001b[0m\u001b[0m\n\u001b[1;32m   3130\u001b[0m \u001b[0;34m\u001b[0m\u001b[0m\n\u001b[0;32m-> 3131\u001b[0;31m         \u001b[0mfh\u001b[0m \u001b[0;34m=\u001b[0m \u001b[0mFileHandle\u001b[0m\u001b[0;34m(\u001b[0m\u001b[0marg\u001b[0m\u001b[0;34m,\u001b[0m \u001b[0mmode\u001b[0m\u001b[0;34m=\u001b[0m\u001b[0mmode\u001b[0m\u001b[0;34m,\u001b[0m \u001b[0mname\u001b[0m\u001b[0;34m=\u001b[0m\u001b[0mname\u001b[0m\u001b[0;34m,\u001b[0m \u001b[0moffset\u001b[0m\u001b[0;34m=\u001b[0m\u001b[0moffset\u001b[0m\u001b[0;34m,\u001b[0m \u001b[0msize\u001b[0m\u001b[0;34m=\u001b[0m\u001b[0msize\u001b[0m\u001b[0;34m)\u001b[0m\u001b[0;34m\u001b[0m\u001b[0;34m\u001b[0m\u001b[0m\n\u001b[0m\u001b[1;32m   3132\u001b[0m         \u001b[0mself\u001b[0m\u001b[0;34m.\u001b[0m\u001b[0m_fh\u001b[0m \u001b[0;34m=\u001b[0m \u001b[0mfh\u001b[0m\u001b[0;34m\u001b[0m\u001b[0;34m\u001b[0m\u001b[0m\n\u001b[1;32m   3133\u001b[0m         \u001b[0mself\u001b[0m\u001b[0;34m.\u001b[0m\u001b[0m_multifile\u001b[0m \u001b[0;34m=\u001b[0m \u001b[0mbool\u001b[0m\u001b[0;34m(\u001b[0m\u001b[0m_multifile\u001b[0m\u001b[0;34m)\u001b[0m\u001b[0;34m\u001b[0m\u001b[0;34m\u001b[0m\u001b[0m\n",
            "\u001b[0;32m/usr/local/lib/python3.7/dist-packages/tifffile/tifffile.py\u001b[0m in \u001b[0;36m__init__\u001b[0;34m(self, file, mode, name, offset, size)\u001b[0m\n\u001b[1;32m  10445\u001b[0m         \u001b[0mself\u001b[0m\u001b[0;34m.\u001b[0m\u001b[0mis_file\u001b[0m \u001b[0;34m=\u001b[0m \u001b[0;32mNone\u001b[0m\u001b[0;34m\u001b[0m\u001b[0;34m\u001b[0m\u001b[0m\n\u001b[1;32m  10446\u001b[0m         \u001b[0mself\u001b[0m\u001b[0;34m.\u001b[0m\u001b[0m_lock\u001b[0m \u001b[0;34m=\u001b[0m \u001b[0mNullContext\u001b[0m\u001b[0;34m(\u001b[0m\u001b[0;34m)\u001b[0m\u001b[0;34m\u001b[0m\u001b[0;34m\u001b[0m\u001b[0m\n\u001b[0;32m> 10447\u001b[0;31m         \u001b[0mself\u001b[0m\u001b[0;34m.\u001b[0m\u001b[0mopen\u001b[0m\u001b[0;34m(\u001b[0m\u001b[0;34m)\u001b[0m\u001b[0;34m\u001b[0m\u001b[0;34m\u001b[0m\u001b[0m\n\u001b[0m\u001b[1;32m  10448\u001b[0m \u001b[0;34m\u001b[0m\u001b[0m\n\u001b[1;32m  10449\u001b[0m     \u001b[0;32mdef\u001b[0m \u001b[0mopen\u001b[0m\u001b[0;34m(\u001b[0m\u001b[0mself\u001b[0m\u001b[0;34m)\u001b[0m\u001b[0;34m:\u001b[0m\u001b[0;34m\u001b[0m\u001b[0;34m\u001b[0m\u001b[0m\n",
            "\u001b[0;32m/usr/local/lib/python3.7/dist-packages/tifffile/tifffile.py\u001b[0m in \u001b[0;36mopen\u001b[0;34m(self)\u001b[0m\n\u001b[1;32m  10458\u001b[0m             \u001b[0mself\u001b[0m\u001b[0;34m.\u001b[0m\u001b[0m_file\u001b[0m \u001b[0;34m=\u001b[0m \u001b[0mos\u001b[0m\u001b[0;34m.\u001b[0m\u001b[0mpath\u001b[0m\u001b[0;34m.\u001b[0m\u001b[0mrealpath\u001b[0m\u001b[0;34m(\u001b[0m\u001b[0mself\u001b[0m\u001b[0;34m.\u001b[0m\u001b[0m_file\u001b[0m\u001b[0;34m)\u001b[0m\u001b[0;34m\u001b[0m\u001b[0;34m\u001b[0m\u001b[0m\n\u001b[1;32m  10459\u001b[0m             \u001b[0mself\u001b[0m\u001b[0;34m.\u001b[0m\u001b[0m_dir\u001b[0m\u001b[0;34m,\u001b[0m \u001b[0mself\u001b[0m\u001b[0;34m.\u001b[0m\u001b[0m_name\u001b[0m \u001b[0;34m=\u001b[0m \u001b[0mos\u001b[0m\u001b[0;34m.\u001b[0m\u001b[0mpath\u001b[0m\u001b[0;34m.\u001b[0m\u001b[0msplit\u001b[0m\u001b[0;34m(\u001b[0m\u001b[0mself\u001b[0m\u001b[0;34m.\u001b[0m\u001b[0m_file\u001b[0m\u001b[0;34m)\u001b[0m\u001b[0;34m\u001b[0m\u001b[0;34m\u001b[0m\u001b[0m\n\u001b[0;32m> 10460\u001b[0;31m             \u001b[0mself\u001b[0m\u001b[0;34m.\u001b[0m\u001b[0m_fh\u001b[0m \u001b[0;34m=\u001b[0m \u001b[0mopen\u001b[0m\u001b[0;34m(\u001b[0m\u001b[0mself\u001b[0m\u001b[0;34m.\u001b[0m\u001b[0m_file\u001b[0m\u001b[0;34m,\u001b[0m \u001b[0mself\u001b[0m\u001b[0;34m.\u001b[0m\u001b[0m_mode\u001b[0m\u001b[0;34m)\u001b[0m\u001b[0;34m\u001b[0m\u001b[0;34m\u001b[0m\u001b[0m\n\u001b[0m\u001b[1;32m  10461\u001b[0m             \u001b[0mself\u001b[0m\u001b[0;34m.\u001b[0m\u001b[0m_close\u001b[0m \u001b[0;34m=\u001b[0m \u001b[0;32mTrue\u001b[0m\u001b[0;34m\u001b[0m\u001b[0;34m\u001b[0m\u001b[0m\n\u001b[1;32m  10462\u001b[0m             \u001b[0;32mif\u001b[0m \u001b[0mself\u001b[0m\u001b[0;34m.\u001b[0m\u001b[0m_offset\u001b[0m \u001b[0;32mis\u001b[0m \u001b[0;32mNone\u001b[0m\u001b[0;34m:\u001b[0m\u001b[0;34m\u001b[0m\u001b[0;34m\u001b[0m\u001b[0m\n",
            "\u001b[0;31mFileNotFoundError\u001b[0m: [Errno 2] No such file or directory: '/content/drive/MyDrive/TIRF/run_2_b/analysis_0/ch0_stack.tiff'"
          ]
        },
        {
          "output_type": "display_data",
          "data": {
            "text/plain": [
              "<Figure size 864x576 with 1 Axes>"
            ],
            "image/png": "[encoded data removed]"
          },
          "metadata": {
            "needs_background": "light"
          }
        }
      ],
      "source": [
        "def photobleaching_rate(trace, ch_0, ch_1, k, two_colour=False, do_calculate=True, type=''):\n",
        "    do_smart_divide = False\n",
        "\n",
        "    def monoExp(x, m, t, b):\n",
        "        return m * np.exp(-t * x) + b\n",
        "\n",
        "    f = plt.figure()\n",
        "    f.set_figwidth(12)\n",
        "    f.set_figheight(8)\n",
        "    ax_1 = f.add_subplot(111)\n",
        "    if do_calculate:\n",
        "        stack_ch0 = read(ch_0, full=True)\n",
        "        ch0 = []\n",
        "        for i in range(stack_ch0.shape[0]):\n",
        "            I = np.sum(stack_ch0[i, :, :])\n",
        "            ch0.append(I)\n",
        "\n",
        "        p0 = (ch0[0], 0.1, 0)\n",
        "        bins = np.arange(0, len(ch0), 1)\n",
        "        params, cv = optimize.curve_fit(monoExp, bins, ch0, p0)\n",
        "\n",
        "        plt.plot(ch0)\n",
        "        plt.plot(monoExp(bins, *params))\n",
        "        np.savetxt('photobleaching.txt', ch0)\n",
        "        np.savetxt('exp_fit.txt', monoExp(bins, *params))\n",
        "        print(f'Photobleaching params: decay constant, k = {params[1]}')\n",
        "\n",
        "        if two_colour:\n",
        "            stack_ch1 = read(ch_1, full=True)\n",
        "            ch1 = []\n",
        "            for i in range(stack_ch1.shape[0]):\n",
        "                I = np.sum(stack_ch1[i, :, :])\n",
        "                ch1.append(I)\n",
        "\n",
        "            p0 = (max(ch1), 0.1, 0)\n",
        "            x_max = max(range(len(ch1)), key=ch1.__getitem__)\n",
        "            bins = np.arange(0, len(ch1), 1)\n",
        "            params, cv = optimize.curve_fit(monoExp, bins[x_max:-1], ch1[x_max:-1], p0)\n",
        "            print(f'Photobleaching params: decay constant, k = {params[1]}')\n",
        "\n",
        "            ax_1.plot(ch1)\n",
        "            ax_1.plot(monoExp(bins, *params))\n",
        "\n",
        "\n",
        "        f.show()\n",
        "\n",
        "    else:\n",
        "        if type == 'liposome':\n",
        "            A0 = trace[0]\n",
        "        elif type == 'protein':\n",
        "            A0 = trace[25]\n",
        "        else:\n",
        "            print('No type...')\n",
        "\n",
        "        bins = np.arange(0, len(trace), 1)\n",
        "        fit = monoExp(bins, A0, k, 0)\n",
        "        error = trace - fit\n",
        "        mask = np.zeros(error.shape, dtype=bool)\n",
        "        mask[np.abs(error) > 0.15] = True\n",
        "        decay = np.copy(fit)\n",
        "        if do_smart_divide:\n",
        "            np.place(decay, mask, 1)\n",
        "\n",
        "        corr = []\n",
        "        for i, frame in enumerate(stack):\n",
        "            arr = frame / fit[i]\n",
        "            corr.append(arr)\n",
        "\n",
        "        corrected_trace = trace / decay\n",
        "        return corrected_trace, np.array(corr), error\n",
        "\n",
        "\n",
        "ch0 = working_dir + '/run_2_b/analysis_0/ch0_stack.tiff'\n",
        "ch1 = working_dir + '/run_2_b/analysis_0/ch1_stack.tiff'\n",
        "\n",
        "photobleaching_rate(None, ch0, ch1, None, two_colour=True, do_calculate=True)"
      ]
    },
    {
      "cell_type": "markdown",
      "id": "3cc5530f",
      "metadata": {
        "id": "3cc5530f"
      },
      "source": [
        "## Correct for colour channel register drift\n",
        "Either calculate calibration or apply offset from pre-computed calibration"
      ]
    },
    {
      "cell_type": "code",
      "execution_count": null,
      "id": "40c9eeca",
      "metadata": {
        "id": "40c9eeca",
        "outputId": "a672e117-5a49-42f7-cc4a-ab12a3ab34f9"
      },
      "outputs": [
        {
          "name": "stdout",
          "output_type": "stream",
          "text": [
            "Perforing Register Correction - deblur\n",
            "Frame 200 of 200\n",
            "Perforing Register Correction - deblur\n",
            "Frame 200 of 200\n",
            "Perforing Register Correction - deblur\n",
            "Frame 200 of 200\n",
            "Perforing Register Correction - deblur\n",
            "Frame 200 of 200\n"
          ]
        }
      ],
      "source": [
        "def register(stack=None, ch_0=None, ch_1=None, warp_matrix=None, tetraspeck=True):\n",
        "    if tetraspeck:\n",
        "        stack = read(stack, full=True)\n",
        "        ch0 = stack[..., 0:427]\n",
        "        ch1 = stack[..., 428:855]\n",
        "        av0 = self.average(np.array(ch0))\n",
        "        av1 = self.average(np.array(ch1))\n",
        "        img_aligned, warp_matrix = self.align(av0, av1)\n",
        "        write(av0, 'ch0_average.tiff')\n",
        "        write(av1, 'ch1_average.tiff')\n",
        "        write(img_aligned, 'ch1_aligned.tiff')\n",
        "        np.save('warp_matrix.npy', warp_matrix)\n",
        "    else:\n",
        "        warp = np.load(warp_matrix)\n",
        "        print(\"Perforing Register Correction - deblur\")\n",
        "        frames_ch1 = []\n",
        "        size_ch1 = ch_1.shape[0]\n",
        "        for i in range(size_ch1):\n",
        "            if i == size_ch1 - 1:\n",
        "                print(f\"Frame {i + 1} of {size_ch1}\", end='\\n')\n",
        "            else:\n",
        "                print(f\"Frame {i + 1} of {size_ch1}\", end='\\r')\n",
        "            sz = ch_1.shape\n",
        "\n",
        "            aligned = cv2.warpAffine(ch_1[i, :, :], warp, (sz[2], sz[1]),\n",
        "                                      flags=cv2.INTER_LINEAR + cv2.WARP_INVERSE_MAP)\n",
        "            frames_ch1.append(aligned)\n",
        "        return ch_0, np.array(frames_ch1)\n",
        "\n",
        "    \n",
        "warp_matrix = working_dir + '/warp_matrix.npy'\n",
        "for analysis in batch:\n",
        "    ch_0, ch_1, root = analysis\n",
        "    ch_0 = read(ch_0, full=True)\n",
        "    ch_1 = read(ch_1, full=True)\n",
        "    ch_0, ch_1 = register(_, ch_0, ch_1, warp_matrix, tetraspeck=False)\n",
        "    write(ch_1, os.path.join(root,'ch1_aligned.tiff'))"
      ]
    },
    {
      "cell_type": "markdown",
      "source": [
        "# Survival analysis\n",
        "\n",
        "Generate overview plots (ensemble-like) of the liposome survival as a function of frame number"
      ],
      "metadata": {
        "id": "tUmhnDu83DLc"
      },
      "id": "tUmhnDu83DLc"
    },
    {
      "cell_type": "code",
      "execution_count": 16,
      "id": "bca435ae",
      "metadata": {
        "id": "bca435ae",
        "colab": {
          "base_uri": "https://localhost:8080/",
          "height": 650
        },
        "outputId": "28768d3f-aad3-44e8-f24a-51525b848f41"
      },
      "outputs": [
        {
          "output_type": "error",
          "ename": "IndexError",
          "evalue": "ignored",
          "traceback": [
            "\u001b[0;31m---------------------------------------------------------------------------\u001b[0m",
            "\u001b[0;31mIndexError\u001b[0m                                Traceback (most recent call last)",
            "\u001b[0;32m<ipython-input-16-f1c91e89ae69>\u001b[0m in \u001b[0;36m<module>\u001b[0;34m()\u001b[0m\n\u001b[1;32m     61\u001b[0m             \u001b[0max_1\u001b[0m\u001b[0;34m.\u001b[0m\u001b[0mplot\u001b[0m\u001b[0;34m(\u001b[0m\u001b[0msurvival\u001b[0m\u001b[0;34m[\u001b[0m\u001b[0;34m:\u001b[0m\u001b[0;36m100\u001b[0m\u001b[0;34m]\u001b[0m\u001b[0;34m,\u001b[0m \u001b[0mcolor\u001b[0m\u001b[0;34m=\u001b[0m\u001b[0mcolours\u001b[0m\u001b[0;34m[\u001b[0m\u001b[0mind\u001b[0m\u001b[0;34m]\u001b[0m\u001b[0;34m,\u001b[0m \u001b[0mlabel\u001b[0m\u001b[0;34m=\u001b[0m\u001b[0minput\u001b[0m\u001b[0;34m[\u001b[0m\u001b[0mind\u001b[0m\u001b[0;34m]\u001b[0m\u001b[0;34m)\u001b[0m\u001b[0;34m\u001b[0m\u001b[0;34m\u001b[0m\u001b[0m\n\u001b[1;32m     62\u001b[0m             \u001b[0mnorm\u001b[0m\u001b[0;34m.\u001b[0m\u001b[0mappend\u001b[0m\u001b[0;34m(\u001b[0m\u001b[0msurvival\u001b[0m\u001b[0;34m)\u001b[0m\u001b[0;34m\u001b[0m\u001b[0;34m\u001b[0m\u001b[0m\n\u001b[0;32m---> 63\u001b[0;31m     \u001b[0mmean\u001b[0m \u001b[0;34m=\u001b[0m \u001b[0mnp\u001b[0m\u001b[0;34m.\u001b[0m\u001b[0mmean\u001b[0m\u001b[0;34m(\u001b[0m\u001b[0mnorm\u001b[0m\u001b[0;34m[\u001b[0m\u001b[0;34m:\u001b[0m\u001b[0;34m]\u001b[0m\u001b[0;34m,\u001b[0m \u001b[0maxis\u001b[0m\u001b[0;34m=\u001b[0m\u001b[0;36m0\u001b[0m\u001b[0;34m)\u001b[0m\u001b[0;34m[\u001b[0m\u001b[0;34m:\u001b[0m\u001b[0;36m100\u001b[0m\u001b[0;34m]\u001b[0m\u001b[0;34m\u001b[0m\u001b[0;34m\u001b[0m\u001b[0m\n\u001b[0m\u001b[1;32m     64\u001b[0m     \u001b[0max_2\u001b[0m\u001b[0;34m.\u001b[0m\u001b[0mplot\u001b[0m\u001b[0;34m(\u001b[0m\u001b[0mmean\u001b[0m\u001b[0;34m,\u001b[0m \u001b[0mcolor\u001b[0m\u001b[0;34m=\u001b[0m\u001b[0mcolours\u001b[0m\u001b[0;34m[\u001b[0m\u001b[0mind\u001b[0m\u001b[0;34m]\u001b[0m\u001b[0;34m,\u001b[0m \u001b[0mlabel\u001b[0m\u001b[0;34m=\u001b[0m\u001b[0minput\u001b[0m\u001b[0;34m[\u001b[0m\u001b[0mind\u001b[0m\u001b[0;34m]\u001b[0m\u001b[0;34m)\u001b[0m\u001b[0;34m\u001b[0m\u001b[0;34m\u001b[0m\u001b[0m\n\u001b[1;32m     65\u001b[0m \u001b[0;34m\u001b[0m\u001b[0m\n",
            "\u001b[0;31mIndexError\u001b[0m: invalid index to scalar variable."
          ]
        },
        {
          "output_type": "display_data",
          "data": {
            "text/plain": [
              "<Figure size 1296x504 with 2 Axes>"
            ],
            "image/png": "[encoded data removed]"
          },
          "metadata": {
            "needs_background": "light"
          }
        }
      ],
      "source": [
        "def normalise(data):\n",
        "    return data / data[0]\n",
        "\n",
        "def survival_analysis(input):\n",
        "    batch = []\n",
        "    if os.path.isdir(input):\n",
        "        for root, _, filenames in os.walk(input):\n",
        "            if os.path.split(root)[-1][0:3] == 'pos':\n",
        "                print(f'Working on {root}')\n",
        "                dir_base = os.path.split(root)[0]\n",
        "                new = 'analysis' + os.path.split(root)[-1][3:]\n",
        "                out = os.path.join(dir_base, new)\n",
        "                if not os.path.isdir(out):\n",
        "                    os.makedirs(out)\n",
        "#                 print(f'Output in {out}')\n",
        "                \n",
        "                f0, l0 = [], []\n",
        "                for file in filenames:\n",
        "                    base = file.split('_')\n",
        "                    if base[-1].split('.')[1] == 'tiff':\n",
        "                        for ind, radical in enumerate(base):\n",
        "                            if radical[:6] == 'colour':\n",
        "                                colour = int(radical[6:7])\n",
        "                            if radical[0] == 't':\n",
        "                                time = int(radical[1:])\n",
        "       \n",
        "                        if colour == 0:\n",
        "                            f0.append(file)\n",
        "                            l0.append(time)\n",
        "                        \n",
        "                l0sort = sorted(range(len(l0)), key=lambda k: l0[k])  \n",
        "    \n",
        "                decay = []\n",
        "                for index in l0sort:\n",
        "                    img = os.path.join(root, f0[index])\n",
        "                    arr = read(img, full=True)\n",
        "                    ii = np.where(arr != 0)\n",
        "                    i = list(zip(*ii[1:3]))\n",
        "                    decay.append(len(i))\n",
        "                batch.append([decay, out])       \n",
        "    return batch  \n",
        "\n",
        "input = ['date/run_2_a/','date/run_2_b','date/run_3_b']\n",
        "colours = ['red', 'green', 'blue']\n",
        "\n",
        "f = plt.figure()\n",
        "f.set_figwidth(18)\n",
        "f.set_figheight(7)\n",
        "ax_1 = f.add_subplot(121)\n",
        "ax_2 = f.add_subplot(122)\n",
        "for ind,dir in enumerate(input):\n",
        "    batch = survival_analysis(dir)\n",
        "\n",
        "    norm = []\n",
        "    for analysis in batch:\n",
        "        if len(analysis[0]) != 0:\n",
        "            decay, pos = analysis\n",
        "            decay = np.array(decay)\n",
        "            survival = normalise(decay)\n",
        "            np.savetxt(os.path.join(pos,'decay.txt'), survival)\n",
        "            ax_1.plot(survival[:100], color=colours[ind], label=input[ind])\n",
        "            norm.append(survival)\n",
        "    mean = np.mean(norm[:], axis=0)[:100]\n",
        "    ax_2.plot(mean, color=colours[ind], label=input[ind])\n",
        "\n",
        "    \n",
        "handles, labels = f.gca().get_legend_handles_labels()\n",
        "by_label = dict(zip(labels, handles))\n",
        "\n",
        "\n",
        "ax_1.set_title('Survival analysis - individual')\n",
        "ax_2.set_title('Survival analysis - averaged')\n",
        "ax_1.legend(by_label.values(), by_label.keys(), loc='best')\n",
        "ax_2.legend(loc='best')\n",
        "f.show()"
      ]
    },
    {
      "cell_type": "markdown",
      "source": [
        "# Single molecule traces analysis\n",
        "Generate overview plots at the single molecule level for liposome survival and protein accumulation"
      ],
      "metadata": {
        "id": "oYNkaJJ33QOf"
      },
      "id": "oYNkaJJ33QOf"
    },
    {
      "cell_type": "code",
      "source": [
        "liposome_decay = 0.008078376160984547\n",
        "protein_decay = 1.87e-2"
      ],
      "metadata": {
        "id": "Q_J1DLe23TxA"
      },
      "id": "Q_J1DLe23TxA",
      "execution_count": null,
      "outputs": []
    },
    {
      "cell_type": "code",
      "execution_count": null,
      "id": "e235b5ef",
      "metadata": {
        "id": "e235b5ef"
      },
      "outputs": [],
      "source": [
        "def single_mol_trace():\n",
        "    #ASSUMES PREPROCESSING HAS ALREADY BEEN DONE.\n",
        "    # TAKES A GAIN REFERENCE CORRECTED STACK IN SINGLE CHANNEL FORMAT (currently)\n",
        "    debug = True\n",
        "\n",
        "    if self.args['input']:\n",
        "        stack_0 = self.read(self.args['input'], 0, 5)\n",
        "        ch0_average = self.average(stack_0)\n",
        "    else:\n",
        "        sys.exit(\"At minimum, ch0 should be provided. Ch1 is optional\")\n",
        "\n",
        "    if self.args['input2']:\n",
        "        stack_1 = self.read(self.args['input2'], 0, 5)\n",
        "        ch1_average = self.average(stack_1)\n",
        "        two_ch = True\n",
        "        print(\"Performing two-channel analysis\")\n",
        "    else:\n",
        "        two_ch = False\n",
        "        print(\"Performing single-channel analysis\")\n",
        "\n",
        "    # all_spots = []\n",
        "    # for frame in range(20):\n",
        "    #     spots = self.peak_finder(stack_0[frame,:,:])\n",
        "    #     all_spots.append(spots)\n",
        "    # all_spots = [spots for sublist in all_spots for spots in sublist]\n",
        "    all_spots = self.localisations_2_coords()\n",
        "    centers = self.filter_spots(stack_0[0, :, :].shape, all_spots)\n",
        "\n",
        "    full_stack_ch0 = self.read(self.args['input'], full=True)\n",
        "    ch0_ref = np.max(full_stack_ch0, axis=0)\n",
        "\n",
        "    if two_ch:\n",
        "        full_stack_ch1 = self.read(self.args['input2'], full=True)\n",
        "        ch1_ref = np.max(full_stack_ch1, axis=0)\n",
        "    else:\n",
        "        full_stack_ch1 = None\n",
        "        ch1_ref = None\n",
        "\n",
        "    full_stack_ch0, full_stack_ch1 = self.align_and_register(full_stack_ch0, full_stack_ch1, ch0_ref, ch1_ref, two_ch=two_ch)\n",
        "\n",
        "    ch0_maxI_al = np.max(full_stack_ch0, axis=0)\n",
        "    if two_ch:\n",
        "        ch1_maxI_al = np.max(full_stack_ch1, axis=0)\n",
        "\n",
        "    if debug:\n",
        "        self.write(full_stack_ch0, \"corrected_ch0_stack.tiff\")\n",
        "        self.write(ch0_maxI_al, \"ch0_max_i_proj_drift.tiff\")\n",
        "        self.write(ch0_ref, \"ch0_max_i_proj.tiff\")\n",
        "        self.write(ch0_average, \"ch0_early_average.tiff\")\n",
        "        grid = np.zeros(ch0_average.shape)\n",
        "        coodinates = np.array(centers)\n",
        "        new_vals = np.ones(coodinates.shape[0])*100\n",
        "        grid[tuple(zip(*coodinates))] = new_vals\n",
        "        self.write(grid, \"ch0_peaks.tiff\")\n",
        "\n",
        "        if two_ch:\n",
        "            self.write(ch1_average, \"ch1_early_average.tiff\")\n",
        "            self.write(ch1_ref, \"ch1_max_i_proj.tiff\")\n",
        "            self.write(ch1_maxI_al, \"ch1_max_i_proj_drift.tiff\")\n",
        "            self.write(full_stack_ch1, \"corrected_ch1_stack.tiff\")\n",
        "\n",
        "    exclude = []\n",
        "    for num,spot in enumerate(centers):\n",
        "        lipo_trace, lipo_bg, lipo_stack = self.intensity_trace(full_stack_ch0, spot, box=2)\n",
        "        # TO DO: Remove this... make sure\n",
        "        if lipo_trace is None:\n",
        "            exclude.append(spot)\n",
        "            continue\n",
        "\n",
        "        if two_ch:\n",
        "            protein_trace, prot_bg, protein_stack = self.intensity_trace(full_stack_ch1, spot, box=2)\n",
        "            if protein_trace is None:\n",
        "                exclude.append(spot)\n",
        "                continue\n",
        "\n",
        "        lipo_trace = self.normalise(lipo_trace, bg=lipo_bg)\n",
        "        if two_ch:\n",
        "            protein_trace = self.normalise(protein_trace, bg=prot_bg[0])\n",
        "\n",
        "        lipo_trace, lipo_stack, lipo_residuals = self.photobleaching_rate(lipo_trace, lipo_stack, self.liposome_decay, type='liposome')\n",
        "\n",
        "        # if two_ch:\n",
        "            #protein_trace = self.photobleaching_rate(protein_trace, protein_stack, self.protein_decay, type='protein')\n",
        "\n",
        "        #self.plot_2d(lipo_stack, protein_stack)\n",
        "\n",
        "        lipo_trace_denoise = self.smooth(np.array(lipo_trace), type='denoise')\n",
        "        if two_ch:\n",
        "            protein_trace_denoise = self.smooth(np.array(protein_trace), type='butter')\n",
        "\n",
        "        boundary_mask = self.find_boundaries(lipo_trace)\n",
        "        new_fit = self.piecewise_constant(lipo_trace, boundary_mask)\n",
        "\n",
        "        events, jumps, fit = self.extract_intensities(lipo_trace, boundary_mask)\n",
        "\n",
        "        # self.plotting(lipo_trace, protein_trace, lipo_trace_denoise, protein_trace_denoise, lipo_residuals ignore_fit=True)\n",
        "\n",
        "        if two_ch:\n",
        "            self.plotting2(lipo_trace, lipo_trace_denoise, protein_trace, protein_trace_denoise, lipo_residuals,\n",
        "                           lipo_stack, protein_stack, num, ignore_fit=True, two_ch=two_ch)\n",
        "        else:\n",
        "            self.plotting2(lipo_trace, lipo_trace_denoise, None, None, lipo_residuals,\n",
        "                           lipo_stack, None, num, ignore_fit=True, two_ch=two_ch)\n",
        "\n",
        "    # grid = np.zeros(ch0_average.shape)\n",
        "    # coodinates = np.array(exclude)\n",
        "    # new_vals = np.ones(coodinates.shape[0]) * 100\n",
        "    # grid[tuple(zip(*coodinates))] = new_vals\n",
        "    # self.write(grid, \"peaks_excluded.tiff\")"
      ]
    }
  ],
  "metadata": {
    "celltoolbar": "Raw Cell Format",
    "kernelspec": {
      "display_name": "Python 3 (ipykernel)",
      "language": "python",
      "name": "python3"
    },
    "language_info": {
      "codemirror_mode": {
        "name": "ipython",
        "version": 3
      },
      "file_extension": ".py",
      "mimetype": "text/x-python",
      "name": "python",
      "nbconvert_exporter": "python",
      "pygments_lexer": "ipython3",
      "version": "3.9.10"
    },
    "colab": {
      "name": "TIRF_analysis.ipynb",
      "provenance": [],
      "include_colab_link": true
    }
  },
  "nbformat": 4,
  "nbformat_minor": 5
}