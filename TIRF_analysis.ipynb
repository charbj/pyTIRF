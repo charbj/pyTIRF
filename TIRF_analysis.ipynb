{
  "cells": [
    {
      "cell_type": "markdown",
      "id": "cd059151",
      "metadata": {
        "id": "cd059151"
      },
      "source": [
        "## TIRF analysis ***INTERACTIVE*** \n",
        "Python programs for analysis of single molecule TIRF\n",
        "\n",
        "Developed by Charles Bayly-Jones (2022) \n",
        "Monash University, Melbourne, Australia"
      ]
    },
    {
      "cell_type": "code",
      "execution_count": 1,
      "id": "1af065f8",
      "metadata": {
        "id": "1af065f8",
        "outputId": "dcff4949-620a-4e29-c74f-1c77763e58fb",
        "colab": {
          "base_uri": "https://localhost:8080/",
          "height": 373
        }
      },
      "outputs": [
        {
          "output_type": "error",
          "ename": "ModuleNotFoundError",
          "evalue": "ignored",
          "traceback": [
            "\u001b[0;31m---------------------------------------------------------------------------\u001b[0m",
            "\u001b[0;31mModuleNotFoundError\u001b[0m                       Traceback (most recent call last)",
            "\u001b[0;32m<ipython-input-1-6ad8f6a0f528>\u001b[0m in \u001b[0;36m<module>\u001b[0;34m()\u001b[0m\n\u001b[1;32m      1\u001b[0m \u001b[0;32mimport\u001b[0m \u001b[0mos\u001b[0m\u001b[0;34m\u001b[0m\u001b[0;34m\u001b[0m\u001b[0m\n\u001b[1;32m      2\u001b[0m \u001b[0;32mimport\u001b[0m \u001b[0mnumpy\u001b[0m \u001b[0;32mas\u001b[0m \u001b[0mnp\u001b[0m\u001b[0;34m\u001b[0m\u001b[0;34m\u001b[0m\u001b[0m\n\u001b[0;32m----> 3\u001b[0;31m \u001b[0;32mfrom\u001b[0m \u001b[0mTIRF_tools\u001b[0m \u001b[0;32mimport\u001b[0m \u001b[0;34m*\u001b[0m\u001b[0;34m\u001b[0m\u001b[0;34m\u001b[0m\u001b[0m\n\u001b[0m\u001b[1;32m      4\u001b[0m \u001b[0mnp\u001b[0m\u001b[0;34m.\u001b[0m\u001b[0mset_printoptions\u001b[0m\u001b[0;34m(\u001b[0m\u001b[0mprecision\u001b[0m\u001b[0;34m=\u001b[0m\u001b[0;36m2\u001b[0m\u001b[0;34m)\u001b[0m\u001b[0;34m\u001b[0m\u001b[0;34m\u001b[0m\u001b[0m\n\u001b[1;32m      5\u001b[0m \u001b[0;32mimport\u001b[0m \u001b[0mmatplotlib\u001b[0m\u001b[0;34m.\u001b[0m\u001b[0mpyplot\u001b[0m \u001b[0;32mas\u001b[0m \u001b[0mplt\u001b[0m\u001b[0;34m\u001b[0m\u001b[0;34m\u001b[0m\u001b[0m\n",
            "\u001b[0;31mModuleNotFoundError\u001b[0m: No module named 'TIRF_tools'",
            "",
            "\u001b[0;31m---------------------------------------------------------------------------\u001b[0;32m\nNOTE: If your import is failing due to a missing package, you can\nmanually install dependencies using either !pip or !apt.\n\nTo view examples of installing some common dependencies, click the\n\"Open Examples\" button below.\n\u001b[0;31m---------------------------------------------------------------------------\u001b[0m\n"
          ],
          "errorDetails": {
            "actions": [
              {
                "action": "open_url",
                "actionText": "Open Examples",
                "url": "/notebooks/snippets/importing_libraries.ipynb"
              }
            ]
          }
        }
      ],
      "source": [
        "import os\n",
        "import numpy as np\n",
        "from TIRF_tools import *\n",
        "np.set_printoptions(precision=2)\n",
        "import matplotlib.pyplot as plt\n",
        "from matplotlib import cm\n",
        "\n",
        "import cv2\n",
        "import math\n",
        "\n",
        "from algorithms import *\n",
        "from skimage.restoration import denoise_tv_chambolle\n",
        "\n",
        "import warnings\n",
        "warnings.filterwarnings(\"ignore\")"
      ]
    },
    {
      "cell_type": "markdown",
      "id": "f75c5362",
      "metadata": {
        "id": "f75c5362"
      },
      "source": [
        "## Define parameters and functions"
      ]
    },
    {
      "cell_type": "code",
      "execution_count": null,
      "id": "f3d652db",
      "metadata": {
        "id": "f3d652db"
      },
      "outputs": [],
      "source": [
        "input = 'date/run_1_b/'\n",
        "gain_ref = 'date/gain_ref.tiff'\n",
        "liposome_decay = 2.25e-3\n",
        "protein_decay = 1.87e-2\n",
        "dt = 5"
      ]
    },
    {
      "cell_type": "markdown",
      "id": "cb9f8991",
      "metadata": {
        "id": "cb9f8991"
      },
      "source": [
        "## Preprocess raw ONI output"
      ]
    },
    {
      "cell_type": "code",
      "execution_count": null,
      "id": "2227854b",
      "metadata": {
        "scrolled": false,
        "id": "2227854b",
        "outputId": "5559b76b-9ee5-4c30-a115-d9eadc35bb71"
      },
      "outputs": [
        {
          "name": "stdout",
          "output_type": "stream",
          "text": [
            "Working on date/run_1_b/pos_0\n",
            "Output in date/run_1_b/analysis_0\n",
            "Working on date/run_1_b/pos_3\n",
            "Output in date/run_1_b/analysis_3\n",
            "Working on date/run_1_b/pos_2\n",
            "Output in date/run_1_b/analysis_2\n",
            "Working on date/run_1_b/pos_1\n",
            "Output in date/run_1_b/analysis_1\n",
            "[['date/run_1_b/analysis_0/ch0_stack.tiff', 'date/run_1_b/analysis_0/ch1_stack.tiff', 'date/run_1_b/analysis_0'], ['date/run_1_b/analysis_3/ch0_stack.tiff', 'date/run_1_b/analysis_3/ch1_stack.tiff', 'date/run_1_b/analysis_3'], ['date/run_1_b/analysis_2/ch0_stack.tiff', 'date/run_1_b/analysis_2/ch1_stack.tiff', 'date/run_1_b/analysis_2'], ['date/run_1_b/analysis_1/ch0_stack.tiff', 'date/run_1_b/analysis_1/ch1_stack.tiff', 'date/run_1_b/analysis_1']]\n"
          ]
        }
      ],
      "source": [
        "def multi_colour_preprocess(input, gain_ref):\n",
        "    gain_ref = read(gain_ref, full=True)\n",
        "\n",
        "    batch = []\n",
        "    if os.path.isdir(input):\n",
        "        for root, _, filenames in os.walk(input):\n",
        "            if os.path.split(root)[-1][0:3] == 'pos':\n",
        "                print(f'Working on {root}')\n",
        "                dir_base = os.path.split(root)[0]\n",
        "                new = 'analysis' + os.path.split(root)[-1][3:]\n",
        "                out = os.path.join(dir_base, new)\n",
        "                if not os.path.isdir(out):\n",
        "                    os.makedirs(out)\n",
        "                print(f'Output in {out}')\n",
        "                \n",
        "                f0, l0 = [], []\n",
        "                f1, l1 = [], []\n",
        "                for file in filenames:\n",
        "                    base = file.split('_')\n",
        "                    if base[-1].split('.')[1] == 'tif':\n",
        "                        for ind, radical in enumerate(base):\n",
        "                            if radical[:6] == 'colour':\n",
        "                                colour = int(radical[6:7])\n",
        "                            if radical[0] == 't':\n",
        "                                time = int(radical[1:])\n",
        "       \n",
        "                        if colour == 0:\n",
        "                            f0.append(file)\n",
        "                            l0.append(time)\n",
        "                        else:\n",
        "                            f1.append(file)\n",
        "                            l1.append(time)\n",
        "                        \n",
        "                l0sort = sorted(range(len(l0)), key=lambda k: l0[k])\n",
        "                l1sort = sorted(range(len(l1)), key=lambda k: l1[k])      \n",
        "    \n",
        "                ch0_stack = []\n",
        "                for index in l0sort:\n",
        "                    img = os.path.join(root, f0[index])\n",
        "                    arr = read(img, full=True)[:,0:427] - gain_ref[:,0:427]\n",
        "                    #mean = np.average(arr)\n",
        "                    #arr[arr > 5 * mean] = 1\n",
        "                    ch0_stack.append(arr)\n",
        "                    \n",
        "                ch1_stack = []\n",
        "                for index in l1sort:\n",
        "                    img = os.path.join(root, f1[index])\n",
        "                    arr = read(img, full=True)[:,428:855] - gain_ref[:,428:855]\n",
        "                    #mean = np.average(arr)\n",
        "                    #arr[arr > 5 * mean] = 1\n",
        "                    ch1_stack.append(arr)\n",
        "\n",
        "                write(average(np.array(ch0_stack)), os.path.join(out,'ch0_average.tiff'))\n",
        "                write(average(np.array(ch1_stack)), os.path.join(out,'ch1_average.tiff'))\n",
        "\n",
        "                write(np.array(ch0_stack), os.path.join(out,'ch0_stack.tiff'))\n",
        "                write(np.array(ch1_stack), os.path.join(out,'ch1_stack.tiff'))\n",
        "                \n",
        "                batch.append([os.path.join(out,'ch0_stack.tiff'),os.path.join(out,'ch1_stack.tiff'), out])\n",
        "                \n",
        "    return batch\n",
        "        \n",
        "batch = multi_colour_preprocess(input, gain_ref)\n",
        "print(batch)"
      ]
    },
    {
      "cell_type": "markdown",
      "id": "d53ea780",
      "metadata": {
        "id": "d53ea780"
      },
      "source": [
        "## Determine photobleaching rate from control experiment"
      ]
    },
    {
      "cell_type": "code",
      "execution_count": null,
      "id": "b5a707b1",
      "metadata": {
        "id": "b5a707b1",
        "outputId": "670bd3d1-26a8-4a03-bba1-ba93a2b5ce73"
      },
      "outputs": [
        {
          "name": "stdout",
          "output_type": "stream",
          "text": [
            "Photobleaching params: decay constant, k = 0.002262934715167323\n",
            "Photobleaching params: decay constant, k = 0.018775279898280796\n"
          ]
        },
        {
          "data": {
            "image/png": "[encoded data removed]",
            "text/plain": [
              "<Figure size 432x288 with 1 Axes>"
            ]
          },
          "metadata": {
            "needs_background": "light"
          },
          "output_type": "display_data"
        }
      ],
      "source": [
        "def photobleaching_rate(trace, ch_0, ch_1, k, two_colour=False, do_calculate=True, type=''):\n",
        "    do_smart_divide = False\n",
        "\n",
        "    def monoExp(x, m, t, b):\n",
        "        return m * np.exp(-t * x) + b\n",
        "\n",
        "    if do_calculate:\n",
        "        stack_ch0 = read(ch_0, full=True)\n",
        "        ch0 = []\n",
        "        for i in range(stack_ch0.shape[0]):\n",
        "            I = np.sum(stack_ch0[i, :, :])\n",
        "            ch0.append(I)\n",
        "\n",
        "        p0 = (ch0[0], 0.1, 0)\n",
        "        bins = np.arange(0, len(ch0), 1)\n",
        "        params, cv = optimize.curve_fit(monoExp, bins, ch0, p0)\n",
        "\n",
        "        plt.plot(ch0)\n",
        "        plt.plot(monoExp(bins, *params))\n",
        "        np.savetxt('photobleaching.txt', ch0)\n",
        "        np.savetxt('exp_fit.txt', monoExp(bins, *params))\n",
        "        print(f'Photobleaching params: decay constant, k = {params[1]}')\n",
        "\n",
        "        if two_colour:\n",
        "            stack_ch1 = read(ch_1, full=True)\n",
        "            ch1 = []\n",
        "            for i in range(stack_ch1.shape[0]):\n",
        "                I = np.sum(stack_ch1[i, :, :])\n",
        "                ch1.append(I)\n",
        "\n",
        "            p0 = (max(ch1), 0.1, 0)\n",
        "            x_max = max(range(len(ch1)), key=ch1.__getitem__)\n",
        "            bins = np.arange(0, len(ch1), 1)\n",
        "            params, cv = optimize.curve_fit(monoExp, bins[x_max:-1], ch1[x_max:-1], p0)\n",
        "            print(f'Photobleaching params: decay constant, k = {params[1]}')\n",
        "\n",
        "            plt.plot(ch1)\n",
        "            plt.plot(monoExp(bins, *params))\n",
        "\n",
        "        plt.show()\n",
        "\n",
        "    else:\n",
        "        if type == 'liposome':\n",
        "            A0 = trace[0]\n",
        "        elif type == 'protein':\n",
        "            A0 = trace[25]\n",
        "        else:\n",
        "            print('No type...')\n",
        "\n",
        "        bins = np.arange(0, len(trace), 1)\n",
        "        fit = monoExp(bins, A0, k, 0)\n",
        "        error = trace - fit\n",
        "        mask = np.zeros(error.shape, dtype=bool)\n",
        "        mask[np.abs(error) > 0.15] = True\n",
        "        decay = np.copy(fit)\n",
        "        if do_smart_divide:\n",
        "            np.place(decay, mask, 1)\n",
        "\n",
        "        corr = []\n",
        "        for i, frame in enumerate(stack):\n",
        "            arr = frame / fit[i]\n",
        "            corr.append(arr)\n",
        "\n",
        "        corrected_trace = trace / decay\n",
        "        return corrected_trace, np.array(corr), error\n",
        "\n",
        "\n",
        "ch0 = 'date/run_1_a/analysis_0/ch0_stack.tiff'\n",
        "ch1 = 'date/run_1_a/analysis_0/ch1_stack.tiff'\n",
        "\n",
        "photobleaching_rate(None, ch0, ch1, None, two_colour=True, do_calculate=True)"
      ]
    },
    {
      "cell_type": "markdown",
      "id": "3cc5530f",
      "metadata": {
        "id": "3cc5530f"
      },
      "source": [
        "## Correct for colour channel register drift\n",
        "Either calculate calibration or apply offset from pre-computed calibration"
      ]
    },
    {
      "cell_type": "code",
      "execution_count": null,
      "id": "40c9eeca",
      "metadata": {
        "id": "40c9eeca",
        "outputId": "a672e117-5a49-42f7-cc4a-ab12a3ab34f9"
      },
      "outputs": [
        {
          "name": "stdout",
          "output_type": "stream",
          "text": [
            "Perforing Register Correction - deblur\n",
            "Frame 200 of 200\n",
            "Perforing Register Correction - deblur\n",
            "Frame 200 of 200\n",
            "Perforing Register Correction - deblur\n",
            "Frame 200 of 200\n",
            "Perforing Register Correction - deblur\n",
            "Frame 200 of 200\n"
          ]
        }
      ],
      "source": [
        "def register(stack=None, ch_0=None, ch_1=None, warp_matrix=None, tetraspeck=True):\n",
        "    if tetraspeck:\n",
        "        stack = read(stack, full=True)\n",
        "        ch0 = stack[..., 0:427]\n",
        "        ch1 = stack[..., 428:855]\n",
        "        av0 = self.average(np.array(ch0))\n",
        "        av1 = self.average(np.array(ch1))\n",
        "        img_aligned, warp_matrix = self.align(av0, av1)\n",
        "        write(av0, 'ch0_average.tiff')\n",
        "        write(av1, 'ch1_average.tiff')\n",
        "        write(img_aligned, 'ch1_aligned.tiff')\n",
        "        np.save('warp_matrix.npy', warp_matrix)\n",
        "    else:\n",
        "        warp = np.load(warp_matrix)\n",
        "        print(\"Perforing Register Correction - deblur\")\n",
        "        frames_ch1 = []\n",
        "        size_ch1 = ch_1.shape[0]\n",
        "        for i in range(size_ch1):\n",
        "            if i == size_ch1 - 1:\n",
        "                print(f\"Frame {i + 1} of {size_ch1}\", end='\\n')\n",
        "            else:\n",
        "                print(f\"Frame {i + 1} of {size_ch1}\", end='\\r')\n",
        "            sz = ch_1.shape\n",
        "\n",
        "            aligned = cv2.warpAffine(ch_1[i, :, :], warp, (sz[2], sz[1]),\n",
        "                                      flags=cv2.INTER_LINEAR + cv2.WARP_INVERSE_MAP)\n",
        "            frames_ch1.append(aligned)\n",
        "        return ch_0, np.array(frames_ch1)\n",
        "\n",
        "    \n",
        "warp_matrix = 'date/warp_matrix.npy'\n",
        "for analysis in batch:\n",
        "    ch_0, ch_1, root = analysis\n",
        "    ch_0 = read(ch_0, full=True)\n",
        "    ch_1 = read(ch_1, full=True)\n",
        "    ch_0, ch_1 = register(_, ch_0, ch_1, warp_matrix, tetraspeck=False)\n",
        "    write(ch_1, os.path.join(root,'ch1_aligned.tiff'))"
      ]
    },
    {
      "cell_type": "code",
      "execution_count": null,
      "id": "bca435ae",
      "metadata": {
        "id": "bca435ae"
      },
      "outputs": [],
      "source": [
        "def localisations_2_coords():\n",
        "        ch0_stack = []\n",
        "        ch1_stack = []\n",
        "        for root, _, filenames in os.walk(self.args['localisations']):\n",
        "            if os.path.split(root)[1] == 'ch0_locs':\n",
        "                l = []\n",
        "                for file in filenames:\n",
        "                    l.append(int(file.split('_')[-4][1:]))\n",
        "                lsort = sorted(range(len(l)), key=lambda k: l[k])\n",
        "\n",
        "                for index in lsort:\n",
        "                    img = os.path.join(root, filenames[index])\n",
        "                    arr = self.read(img, full=True)\n",
        "                    ch0_stack.append(arr)\n",
        "\n",
        "            if os.path.split(root)[1] == 'ch1_locs':\n",
        "                l = []\n",
        "                for file in filenames:\n",
        "                    l.append(int(file.split('_')[-4][1:]))\n",
        "                lsort = sorted(range(len(l)), key=lambda k: l[k])\n",
        "\n",
        "                for index in lsort:\n",
        "                    img = os.path.join(root, filenames[index])\n",
        "                    arr = self.read(img, full=True)\n",
        "                    ch1_stack.append(arr)\n",
        "\n",
        "        ch0_stack = np.array(ch0_stack)\n",
        "        ii = np.where(ch0_stack != 0)\n",
        "        return list(zip(*ii[1:3]))\n",
        "\n",
        "def survival_analysis():\n",
        "    neg_stack = []\n",
        "    exp_stack = []\n",
        "    for root, _, filenames in os.walk(self.args['localisations']):\n",
        "        if os.path.split(root)[1] == 'ch0_locs':\n",
        "            l = []\n",
        "            for file in filenames:\n",
        "                l.append(int(file.split('_')[-4][1:]))\n",
        "            lsort = sorted(range(len(l)), key=lambda k: l[k])\n",
        "\n",
        "            for index in lsort:\n",
        "                img = os.path.join(root, filenames[index])\n",
        "                arr = self.read(img, full=True)\n",
        "                ii = np.where(arr != 0)\n",
        "                l = list(zip(*ii[1:3]))\n",
        "                exp_stack.append(len(l))\n",
        "    exp = np.array(exp_stack)\n",
        "\n",
        "    # for root, _, filenames in os.walk(self.args['localisations2']):\n",
        "    #     if os.path.split(root)[1] == 'ch0_locs':\n",
        "    #         l = []\n",
        "    #         for file in filenames:\n",
        "    #             l.append(int(file.split('_')[-4][1:]))\n",
        "    #         lsort = sorted(range(len(l)), key=lambda k: l[k])\n",
        "    #\n",
        "    #         for index in lsort:\n",
        "    #             img = os.path.join(root, filenames[index])\n",
        "    #             arr = self.read(img, full=True)\n",
        "    #             jj = np.where(arr != 0)\n",
        "    #             l = list(zip(*jj[1:3]))\n",
        "    #             neg_stack.append(len(l))\n",
        "    # neg = np.array(neg_stack)\n",
        "\n",
        "    def normalise_list(data):\n",
        "        return data / data[0]\n",
        "    # neg_hat = normalise_list(neg)\n",
        "    exp_hat = normalise_list(exp)\n",
        "    # plt.plot(neg_hat[0:100], color='green')\n",
        "    # plt.plot(exp_hat[0:100], color='blue')\n",
        "    np.savetxt(str(self.args['out'])+'.txt', exp_hat)\n",
        "    # np.savetxt('lipo_neg_control.txt', neg_hat)\n",
        "    # plt.show()"
      ]
    },
    {
      "cell_type": "code",
      "execution_count": null,
      "id": "e235b5ef",
      "metadata": {
        "id": "e235b5ef"
      },
      "outputs": [],
      "source": [
        "def single_mol_trace():\n",
        "    #ASSUMES PREPROCESSING HAS ALREADY BEEN DONE.\n",
        "    # TAKES A GAIN REFERENCE CORRECTED STACK IN SINGLE CHANNEL FORMAT (currently)\n",
        "    debug = True\n",
        "\n",
        "    if self.args['input']:\n",
        "        stack_0 = self.read(self.args['input'], 0, 5)\n",
        "        ch0_average = self.average(stack_0)\n",
        "    else:\n",
        "        sys.exit(\"At minimum, ch0 should be provided. Ch1 is optional\")\n",
        "\n",
        "    if self.args['input2']:\n",
        "        stack_1 = self.read(self.args['input2'], 0, 5)\n",
        "        ch1_average = self.average(stack_1)\n",
        "        two_ch = True\n",
        "        print(\"Performing two-channel analysis\")\n",
        "    else:\n",
        "        two_ch = False\n",
        "        print(\"Performing single-channel analysis\")\n",
        "\n",
        "    # all_spots = []\n",
        "    # for frame in range(20):\n",
        "    #     spots = self.peak_finder(stack_0[frame,:,:])\n",
        "    #     all_spots.append(spots)\n",
        "    # all_spots = [spots for sublist in all_spots for spots in sublist]\n",
        "    all_spots = self.localisations_2_coords()\n",
        "    centers = self.filter_spots(stack_0[0, :, :].shape, all_spots)\n",
        "\n",
        "    full_stack_ch0 = self.read(self.args['input'], full=True)\n",
        "    ch0_ref = np.max(full_stack_ch0, axis=0)\n",
        "\n",
        "    if two_ch:\n",
        "        full_stack_ch1 = self.read(self.args['input2'], full=True)\n",
        "        ch1_ref = np.max(full_stack_ch1, axis=0)\n",
        "    else:\n",
        "        full_stack_ch1 = None\n",
        "        ch1_ref = None\n",
        "\n",
        "    full_stack_ch0, full_stack_ch1 = self.align_and_register(full_stack_ch0, full_stack_ch1, ch0_ref, ch1_ref, two_ch=two_ch)\n",
        "\n",
        "    ch0_maxI_al = np.max(full_stack_ch0, axis=0)\n",
        "    if two_ch:\n",
        "        ch1_maxI_al = np.max(full_stack_ch1, axis=0)\n",
        "\n",
        "    if debug:\n",
        "        self.write(full_stack_ch0, \"corrected_ch0_stack.tiff\")\n",
        "        self.write(ch0_maxI_al, \"ch0_max_i_proj_drift.tiff\")\n",
        "        self.write(ch0_ref, \"ch0_max_i_proj.tiff\")\n",
        "        self.write(ch0_average, \"ch0_early_average.tiff\")\n",
        "        grid = np.zeros(ch0_average.shape)\n",
        "        coodinates = np.array(centers)\n",
        "        new_vals = np.ones(coodinates.shape[0])*100\n",
        "        grid[tuple(zip(*coodinates))] = new_vals\n",
        "        self.write(grid, \"ch0_peaks.tiff\")\n",
        "\n",
        "        if two_ch:\n",
        "            self.write(ch1_average, \"ch1_early_average.tiff\")\n",
        "            self.write(ch1_ref, \"ch1_max_i_proj.tiff\")\n",
        "            self.write(ch1_maxI_al, \"ch1_max_i_proj_drift.tiff\")\n",
        "            self.write(full_stack_ch1, \"corrected_ch1_stack.tiff\")\n",
        "\n",
        "    exclude = []\n",
        "    for num,spot in enumerate(centers):\n",
        "        lipo_trace, lipo_bg, lipo_stack = self.intensity_trace(full_stack_ch0, spot, box=2)\n",
        "        # TO DO: Remove this... make sure\n",
        "        if lipo_trace is None:\n",
        "            exclude.append(spot)\n",
        "            continue\n",
        "\n",
        "        if two_ch:\n",
        "            protein_trace, prot_bg, protein_stack = self.intensity_trace(full_stack_ch1, spot, box=2)\n",
        "            if protein_trace is None:\n",
        "                exclude.append(spot)\n",
        "                continue\n",
        "\n",
        "        lipo_trace = self.normalise(lipo_trace, bg=lipo_bg)\n",
        "        if two_ch:\n",
        "            protein_trace = self.normalise(protein_trace, bg=prot_bg[0])\n",
        "\n",
        "        lipo_trace, lipo_stack, lipo_residuals = self.photobleaching_rate(lipo_trace, lipo_stack, self.liposome_decay, type='liposome')\n",
        "\n",
        "        # if two_ch:\n",
        "            #protein_trace = self.photobleaching_rate(protein_trace, protein_stack, self.protein_decay, type='protein')\n",
        "\n",
        "        #self.plot_2d(lipo_stack, protein_stack)\n",
        "\n",
        "        lipo_trace_denoise = self.smooth(np.array(lipo_trace), type='denoise')\n",
        "        if two_ch:\n",
        "            protein_trace_denoise = self.smooth(np.array(protein_trace), type='butter')\n",
        "\n",
        "        boundary_mask = self.find_boundaries(lipo_trace)\n",
        "        new_fit = self.piecewise_constant(lipo_trace, boundary_mask)\n",
        "\n",
        "        events, jumps, fit = self.extract_intensities(lipo_trace, boundary_mask)\n",
        "\n",
        "        # self.plotting(lipo_trace, protein_trace, lipo_trace_denoise, protein_trace_denoise, lipo_residuals ignore_fit=True)\n",
        "\n",
        "        if two_ch:\n",
        "            self.plotting2(lipo_trace, lipo_trace_denoise, protein_trace, protein_trace_denoise, lipo_residuals,\n",
        "                           lipo_stack, protein_stack, num, ignore_fit=True, two_ch=two_ch)\n",
        "        else:\n",
        "            self.plotting2(lipo_trace, lipo_trace_denoise, None, None, lipo_residuals,\n",
        "                           lipo_stack, None, num, ignore_fit=True, two_ch=two_ch)\n",
        "\n",
        "    # grid = np.zeros(ch0_average.shape)\n",
        "    # coodinates = np.array(exclude)\n",
        "    # new_vals = np.ones(coodinates.shape[0]) * 100\n",
        "    # grid[tuple(zip(*coodinates))] = new_vals\n",
        "    # self.write(grid, \"peaks_excluded.tiff\")"
      ]
    },
    {
      "cell_type": "code",
      "execution_count": null,
      "id": "27cbdfad",
      "metadata": {
        "id": "27cbdfad"
      },
      "outputs": [],
      "source": [
        "# if __name__ == '__main__':\n",
        "#     # Argument parser\n",
        "#     ap = argparse.ArgumentParser(\n",
        "#         description=textwrap.dedent('''\\\n",
        "#         ###########################################################################################################\n",
        "#                     TIRF analysis ***VIEW*** - python programs for analysis of single molecule TIRF\n",
        "#                     Developed by Charles Bayly-Jones (2022) - Monash University, Melbourne, Australia\n",
        "#         ###########################################################################################################'''),\n",
        "#         usage='Use python3 %(prog)s --help for more information',\n",
        "#         formatter_class=argparse.RawTextHelpFormatter)\n",
        "\n",
        "#     ap.add_argument(\"-i\", \"--input\",\n",
        "#                     required=False,\n",
        "#                     help=textwrap.dedent('''\\\n",
        "#                     Single image in .tif or .tiff format\n",
        "#                     e.g. photobleaching_run.tif'''))\n",
        "#     ap.add_argument(\"-i2\", \"--input2\",\n",
        "#                     required=False,\n",
        "#                     help=textwrap.dedent('''\\\n",
        "#                     Single image in .tif or .tiff format\n",
        "#                     e.g. photobleaching_run.tif'''))\n",
        "#     ap.add_argument(\"-o\", \"--out\",\n",
        "#                     required=False,\n",
        "#                     help=textwrap.dedent('''\\\n",
        "#                     Output directory to store results'''))\n",
        "#     ap.add_argument(\"-b\", \"--batch\", action='store_true',\n",
        "#                     required=False,\n",
        "#                     help=textwrap.dedent('''\\\n",
        "#                     Path to directory for batch processing. Data should be organised /data/run/ch0/image.tif'''))\n",
        "#     ap.add_argument(\"-t\", \"--traces\", action='store_true',\n",
        "#                     required=False,\n",
        "#                     help=textwrap.dedent('''\\\n",
        "#                     Path to directory for batch processing. Data should be organised /data/run/ch0/image.tif'''))\n",
        "#     ap.add_argument(\"-s\", \"--survival\", action='store_true',\n",
        "#                     required=False,\n",
        "#                     help=textwrap.dedent('''\\\n",
        "#                     Path to directory for batch processing. Data should be organised /data/run/ch0/image.tif'''))\n",
        "#     ap.add_argument(\"-g\", \"--gain_ref\",\n",
        "#                     required=False,\n",
        "#                     help=textwrap.dedent('''\\\n",
        "#                     Is the image a stack of frames or individual frames organised by directory?'''))\n",
        "#     ap.add_argument(\"-l\", \"--localisations\",\n",
        "#                     required=False,\n",
        "#                     help=textwrap.dedent('''\\\n",
        "#                     Is the image a stack of frames or individual frames organised by directory?'''))\n",
        "#     ap.add_argument(\"-l2\", \"--localisations2\",\n",
        "#                     required=False,\n",
        "#                     help=textwrap.dedent('''\\\n",
        "#                     Is the image a stack of frames or individual frames organised by directory?'''))\n",
        "#     ap.add_argument(\"-z\", \"--zstack\", action='store_true',\n",
        "#                     required=False,\n",
        "#                     help=textwrap.dedent('''\\\n",
        "#                     Is the image a stack of frames or individual frames organised by directory?'''))\n",
        "#     ap.add_argument(\"-G\", \"--do_gain_ref\", action='store_true',\n",
        "#                     required=False,\n",
        "#                     help=textwrap.dedent('''\\\n",
        "#                         Is the image a stack of frames or individual frames organised by directory?'''))\n",
        "#     ap.add_argument(\"-e\", \"--do_calculate\", action='store_true',\n",
        "#                     required=False,\n",
        "#                     help=textwrap.dedent('''\\\n",
        "#                         Path to directory for batch processing. Data should be organised /data/run/ch0/image.tif'''))\n",
        "\n",
        "#     args = vars(ap.parse_args())\n",
        "#     C = core(args)\n",
        "#     if args['do_calculate']:\n",
        "#         C.photobleaching_rate(None, None, None)\n",
        "#     if args['batch']:\n",
        "#         C.multi_colour_preprocess()\n",
        "#     if args['traces']:\n",
        "#         C.single_mol_trace()\n",
        "#     if args['survival']:\n",
        "#         C.survival_analysis()"
      ]
    },
    {
      "cell_type": "markdown",
      "id": "eef8000c",
      "metadata": {
        "id": "eef8000c"
      },
      "source": [
        "Photobleaching rate estimation."
      ]
    },
    {
      "cell_type": "code",
      "execution_count": null,
      "id": "5ea61282",
      "metadata": {
        "id": "5ea61282"
      },
      "outputs": [],
      "source": [
        ""
      ]
    }
  ],
  "metadata": {
    "celltoolbar": "Raw Cell Format",
    "kernelspec": {
      "display_name": "Python 3 (ipykernel)",
      "language": "python",
      "name": "python3"
    },
    "language_info": {
      "codemirror_mode": {
        "name": "ipython",
        "version": 3
      },
      "file_extension": ".py",
      "mimetype": "text/x-python",
      "name": "python",
      "nbconvert_exporter": "python",
      "pygments_lexer": "ipython3",
      "version": "3.9.10"
    },
    "colab": {
      "name": "TIRF_analysis.ipynb",
      "provenance": []
    }
  },
  "nbformat": 4,
  "nbformat_minor": 5
}